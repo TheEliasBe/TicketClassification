{
 "cells": [
  {
   "cell_type": "code",
   "execution_count": 12,
   "metadata": {
    "collapsed": true
   },
   "outputs": [
    {
     "name": "stderr",
     "output_type": "stream",
     "text": [
      "/var/folders/bq/l2q_cb9j6bj21nlxmzykz44r0000gn/T/ipykernel_47039/2335357354.py:5: FutureWarning: The pandas.datetime class is deprecated and will be removed from pandas in a future version. Import from datetime module instead.\n",
      "  dateparse = lambda x: pd.datetime.strptime(x, '%d.%m.%y %H:%M')\n"
     ]
    },
    {
     "data": {
      "text/plain": "                   Date  Runtime     State\n0   2023-04-24 11:58:00       11  finished\n1   2023-04-24 11:58:00       20  finished\n2   2023-04-24 12:13:00     2353  finished\n3   2023-04-24 13:13:00     2995  finished\n4   2023-04-24 15:03:00        8    failed\n..                  ...      ...       ...\n120 2023-07-20 15:13:00    37932  finished\n121 2023-08-07 12:47:00     6663   crashed\n122 2023-08-08 09:08:00    11030    failed\n123 2023-08-08 15:26:00     1832   crashed\n124 2023-08-09 08:51:00     4592   running\n\n[125 rows x 3 columns]",
      "text/html": "<div>\n<style scoped>\n    .dataframe tbody tr th:only-of-type {\n        vertical-align: middle;\n    }\n\n    .dataframe tbody tr th {\n        vertical-align: top;\n    }\n\n    .dataframe thead th {\n        text-align: right;\n    }\n</style>\n<table border=\"1\" class=\"dataframe\">\n  <thead>\n    <tr style=\"text-align: right;\">\n      <th></th>\n      <th>Date</th>\n      <th>Runtime</th>\n      <th>State</th>\n    </tr>\n  </thead>\n  <tbody>\n    <tr>\n      <th>0</th>\n      <td>2023-04-24 11:58:00</td>\n      <td>11</td>\n      <td>finished</td>\n    </tr>\n    <tr>\n      <th>1</th>\n      <td>2023-04-24 11:58:00</td>\n      <td>20</td>\n      <td>finished</td>\n    </tr>\n    <tr>\n      <th>2</th>\n      <td>2023-04-24 12:13:00</td>\n      <td>2353</td>\n      <td>finished</td>\n    </tr>\n    <tr>\n      <th>3</th>\n      <td>2023-04-24 13:13:00</td>\n      <td>2995</td>\n      <td>finished</td>\n    </tr>\n    <tr>\n      <th>4</th>\n      <td>2023-04-24 15:03:00</td>\n      <td>8</td>\n      <td>failed</td>\n    </tr>\n    <tr>\n      <th>...</th>\n      <td>...</td>\n      <td>...</td>\n      <td>...</td>\n    </tr>\n    <tr>\n      <th>120</th>\n      <td>2023-07-20 15:13:00</td>\n      <td>37932</td>\n      <td>finished</td>\n    </tr>\n    <tr>\n      <th>121</th>\n      <td>2023-08-07 12:47:00</td>\n      <td>6663</td>\n      <td>crashed</td>\n    </tr>\n    <tr>\n      <th>122</th>\n      <td>2023-08-08 09:08:00</td>\n      <td>11030</td>\n      <td>failed</td>\n    </tr>\n    <tr>\n      <th>123</th>\n      <td>2023-08-08 15:26:00</td>\n      <td>1832</td>\n      <td>crashed</td>\n    </tr>\n    <tr>\n      <th>124</th>\n      <td>2023-08-09 08:51:00</td>\n      <td>4592</td>\n      <td>running</td>\n    </tr>\n  </tbody>\n</table>\n<p>125 rows × 3 columns</p>\n</div>"
     },
     "execution_count": 12,
     "metadata": {},
     "output_type": "execute_result"
    }
   ],
   "source": [
    "import pandas as pd\n",
    "import tikzplotlib\n",
    "import matplotlib.pyplot as plt\n",
    "\n",
    "dateparse = lambda x: pd.datetime.strptime(x, '%d.%m.%y %H:%M')\n",
    "df = pd.read_csv(\"../data/run_state_runtime.csv\", delimiter=\";\", parse_dates=[\"Date\"], date_parser=dateparse)\n",
    "df"
   ]
  },
  {
   "cell_type": "code",
   "execution_count": 21,
   "outputs": [],
   "source": [
    "df[\"Runtime\"] = df[\"Runtime\"]/60/60"
   ],
   "metadata": {
    "collapsed": false
   }
  },
  {
   "cell_type": "code",
   "execution_count": 22,
   "outputs": [
    {
     "name": "stdout",
     "output_type": "stream",
     "text": [
      "Requirement already satisfied: matplotlib==3.5 in /Users/eliasberger/Documents/Uni/Masterthesis/ticketclassification/venv/lib/python3.9/site-packages (3.5.0)\r\n",
      "Requirement already satisfied: setuptools-scm>=4 in /Users/eliasberger/Documents/Uni/Masterthesis/ticketclassification/venv/lib/python3.9/site-packages (from matplotlib==3.5) (7.1.0)\r\n",
      "Requirement already satisfied: kiwisolver>=1.0.1 in /Users/eliasberger/Documents/Uni/Masterthesis/ticketclassification/venv/lib/python3.9/site-packages (from matplotlib==3.5) (1.4.4)\r\n",
      "Requirement already satisfied: numpy>=1.17 in /Users/eliasberger/Documents/Uni/Masterthesis/ticketclassification/venv/lib/python3.9/site-packages (from matplotlib==3.5) (1.23.5)\r\n",
      "Requirement already satisfied: fonttools>=4.22.0 in /Users/eliasberger/Documents/Uni/Masterthesis/ticketclassification/venv/lib/python3.9/site-packages (from matplotlib==3.5) (4.39.2)\r\n",
      "Requirement already satisfied: pyparsing>=2.2.1 in /Users/eliasberger/Documents/Uni/Masterthesis/ticketclassification/venv/lib/python3.9/site-packages (from matplotlib==3.5) (3.0.9)\r\n",
      "Requirement already satisfied: cycler>=0.10 in /Users/eliasberger/Documents/Uni/Masterthesis/ticketclassification/venv/lib/python3.9/site-packages (from matplotlib==3.5) (0.11.0)\r\n",
      "Requirement already satisfied: pillow>=6.2.0 in /Users/eliasberger/Documents/Uni/Masterthesis/ticketclassification/venv/lib/python3.9/site-packages (from matplotlib==3.5) (9.4.0)\r\n",
      "Requirement already satisfied: python-dateutil>=2.7 in /Users/eliasberger/Documents/Uni/Masterthesis/ticketclassification/venv/lib/python3.9/site-packages (from matplotlib==3.5) (2.8.2)\r\n",
      "Requirement already satisfied: packaging>=20.0 in /Users/eliasberger/Documents/Uni/Masterthesis/ticketclassification/venv/lib/python3.9/site-packages (from matplotlib==3.5) (23.0)\r\n",
      "Requirement already satisfied: six>=1.5 in /Users/eliasberger/Documents/Uni/Masterthesis/ticketclassification/venv/lib/python3.9/site-packages (from python-dateutil>=2.7->matplotlib==3.5) (1.16.0)\r\n",
      "Requirement already satisfied: setuptools in /Users/eliasberger/Documents/Uni/Masterthesis/ticketclassification/venv/lib/python3.9/site-packages (from setuptools-scm>=4->matplotlib==3.5) (67.4.0)\r\n",
      "Requirement already satisfied: tomli>=1.0.0 in /Users/eliasberger/Documents/Uni/Masterthesis/ticketclassification/venv/lib/python3.9/site-packages (from setuptools-scm>=4->matplotlib==3.5) (2.0.1)\r\n",
      "Requirement already satisfied: typing-extensions in /Users/eliasberger/Documents/Uni/Masterthesis/ticketclassification/venv/lib/python3.9/site-packages (from setuptools-scm>=4->matplotlib==3.5) (4.5.0)\r\n",
      "\r\n",
      "\u001B[1m[\u001B[0m\u001B[34;49mnotice\u001B[0m\u001B[1;39;49m]\u001B[0m\u001B[39;49m A new release of pip is available: \u001B[0m\u001B[31;49m23.0.1\u001B[0m\u001B[39;49m -> \u001B[0m\u001B[32;49m23.2.1\u001B[0m\r\n",
      "\u001B[1m[\u001B[0m\u001B[34;49mnotice\u001B[0m\u001B[1;39;49m]\u001B[0m\u001B[39;49m To update, run: \u001B[0m\u001B[32;49mpython -m pip install --upgrade pip\u001B[0m\r\n",
      "Note: you may need to restart the kernel to use updated packages.\n"
     ]
    }
   ],
   "source": [
    "# install matplotlib 3.5\n",
    "%pip install matplotlib==3.5"
   ],
   "metadata": {
    "collapsed": false
   }
  },
  {
   "cell_type": "code",
   "execution_count": 23,
   "outputs": [
    {
     "name": "stdout",
     "output_type": "stream",
     "text": [
      "matplotlib==3.5.0\r\n",
      "matplotlib-inline==0.1.6\r\n",
      "Note: you may need to restart the kernel to use updated packages.\n"
     ]
    }
   ],
   "source": [
    "%pip freeze | grep matplotlib"
   ],
   "metadata": {
    "collapsed": false
   }
  },
  {
   "cell_type": "code",
   "execution_count": 25,
   "outputs": [
    {
     "data": {
      "text/plain": "<Figure size 1200x480 with 1 Axes>",
      "image/png": "[encoded data removed]"
     },
     "metadata": {},
     "output_type": "display_data"
    }
   ],
   "source": [
    "fig, ax = plt.subplots()\n",
    "states = df[\"State\"].unique()\n",
    "\n",
    "for state in states:\n",
    "    ax.bar(df[df[\"State\"].str.contains(state)][\"Date\"], df[df[\"State\"].str.contains(state)][\"Runtime\"], label=state)\n",
    "# ax.legend()\n",
    "\n",
    "fig.set_figwidth(12)\n",
    "tikzplotlib.save(\"plots/runtime.tex\", axis_height='5cm', axis_width='12cm')"
   ],
   "metadata": {
    "collapsed": false
   }
  },
  {
   "cell_type": "code",
   "execution_count": null,
   "outputs": [],
   "source": [],
   "metadata": {
    "collapsed": false
   }
  }
 ],
 "metadata": {
  "kernelspec": {
   "display_name": "Python 3",
   "language": "python",
   "name": "python3"
  },
  "language_info": {
   "codemirror_mode": {
    "name": "ipython",
    "version": 2
   },
   "file_extension": ".py",
   "mimetype": "text/x-python",
   "name": "python",
   "nbconvert_exporter": "python",
   "pygments_lexer": "ipython2",
   "version": "2.7.6"
  }
 },
 "nbformat": 4,
 "nbformat_minor": 0
}
