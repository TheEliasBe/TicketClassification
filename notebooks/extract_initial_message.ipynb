{
 "cells": [
  {
   "cell_type": "code",
   "execution_count": 1,
   "metadata": {
    "collapsed": true
   },
   "outputs": [],
   "source": [
    "import pandas as pd"
   ]
  },
  {
   "cell_type": "code",
   "execution_count": 4,
   "outputs": [
    {
     "data": {
      "text/plain": "Index(['ID', 'Nachrichtentyp', 'Datum', 'Uhrzeit', 'Absender', 'Ort', 'Text'], dtype='object')"
     },
     "execution_count": 4,
     "metadata": {},
     "output_type": "execute_result"
    }
   ],
   "source": [
    "df_2022 = pd.read_csv(\"../data/01_raw/2022/contents.csv\")"
   ],
   "metadata": {
    "collapsed": false
   }
  },
  {
   "cell_type": "code",
   "execution_count": 12,
   "outputs": [],
   "source": [
    "# merge Datum and Uhrzeit into timestamp\n",
    "df_2022['timestamp'] = pd.to_datetime(df_2022['Datum'] + ' ' + df_2022['Uhrzeit'])\n",
    "df_2022 = df_2022[df_2022[\"Nachrichtentyp\"].str.contains(\"Beschreibung\")]"
   ],
   "metadata": {
    "collapsed": false
   }
  },
  {
   "cell_type": "code",
   "execution_count": 13,
   "outputs": [
    {
     "data": {
      "text/plain": "              ID Nachrichtentyp       Datum   Uhrzeit  \\\n0     2000013021  Beschreibung   2022.01.03  13:51:04   \n1     2000013021  Beschreibung   2022.01.12  16:18:51   \n4     2000013022  Beschreibung   2022.01.03  15:19:55   \n7     2000013023  Beschreibung   2022.01.04  11:51:38   \n10    2000013024  Beschreibung   2022.01.04  14:37:58   \n...          ...            ...         ...       ...   \n6109  8000003510  Beschreibung   2022.12.27  17:29:15   \n6111  8000003511  Beschreibung   2022.12.28  17:29:12   \n6113  8000003512  Beschreibung   2022.12.29  17:29:23   \n6115  8000003513  Beschreibung   2022.12.30  17:29:08   \n6117  8000003514  Beschreibung   2022.12.31  17:29:11   \n\n                            Absender                         Ort  \\\n0         H2671TG1 Tobias Güthinger               D-67549 Worms    \n1      H2851BB2 Benedikt Betzwieser            D-85748 Garching    \n4              H2851US4 UCC Support            D-85748 Garching    \n7     U2PL019MS1 Mariusz Szczubelek             P-61-874 Poznan    \n10          U2TR011PA3 Pelin Atahan   T-34794 Cekmekoy Istanbul    \n...                              ...                         ...   \n6109                     SOLMAN_BTC                           -    \n6111                     SOLMAN_BTC                           -    \n6113                     SOLMAN_BTC                           -    \n6115                     SOLMAN_BTC                           -    \n6117                     SOLMAN_BTC                           -    \n\n                                                   Text           timestamp  \n0     Sehr geehrte Damen und Herren,\\nhiermit bitte ... 2022-01-03 13:51:04  \n1     Lieber Herr Güthinger,\\n\\nmeine Kollegin, Frau... 2022-01-12 16:18:51  \n4     Sehr geehrte Damen und Herren,\\n\\nich wünsche ... 2022-01-03 15:19:55  \n7     Dear Colleagues,\\nPlease reset password for us... 2022-01-04 11:51:38  \n10    Hi,\\n\\nI created some user accounts for remote... 2022-01-04 14:37:58  \n...                                                 ...                 ...  \n6109                              Issue creation test\\n 2022-12-27 17:29:15  \n6111                              Issue creation test\\n 2022-12-28 17:29:12  \n6113                              Issue creation test\\n 2022-12-29 17:29:23  \n6115                              Issue creation test\\n 2022-12-30 17:29:08  \n6117                              Issue creation test\\n 2022-12-31 17:29:11  \n\n[2495 rows x 8 columns]",
      "text/html": "<div>\n<style scoped>\n    .dataframe tbody tr th:only-of-type {\n        vertical-align: middle;\n    }\n\n    .dataframe tbody tr th {\n        vertical-align: top;\n    }\n\n    .dataframe thead th {\n        text-align: right;\n    }\n</style>\n<table border=\"1\" class=\"dataframe\">\n  <thead>\n    <tr style=\"text-align: right;\">\n      <th></th>\n      <th>ID</th>\n      <th>Nachrichtentyp</th>\n      <th>Datum</th>\n      <th>Uhrzeit</th>\n      <th>Absender</th>\n      <th>Ort</th>\n      <th>Text</th>\n      <th>timestamp</th>\n    </tr>\n  </thead>\n  <tbody>\n    <tr>\n      <th>0</th>\n      <td>2000013021</td>\n      <td>Beschreibung</td>\n      <td>2022.01.03</td>\n      <td>13:51:04</td>\n      <td>H2671TG1 Tobias Güthinger</td>\n      <td>D-67549 Worms</td>\n      <td>Sehr geehrte Damen und Herren,\\nhiermit bitte ...</td>\n      <td>2022-01-03 13:51:04</td>\n    </tr>\n    <tr>\n      <th>1</th>\n      <td>2000013021</td>\n      <td>Beschreibung</td>\n      <td>2022.01.12</td>\n      <td>16:18:51</td>\n      <td>H2851BB2 Benedikt Betzwieser</td>\n      <td>D-85748 Garching</td>\n      <td>Lieber Herr Güthinger,\\n\\nmeine Kollegin, Frau...</td>\n      <td>2022-01-12 16:18:51</td>\n    </tr>\n    <tr>\n      <th>4</th>\n      <td>2000013022</td>\n      <td>Beschreibung</td>\n      <td>2022.01.03</td>\n      <td>15:19:55</td>\n      <td>H2851US4 UCC Support</td>\n      <td>D-85748 Garching</td>\n      <td>Sehr geehrte Damen und Herren,\\n\\nich wünsche ...</td>\n      <td>2022-01-03 15:19:55</td>\n    </tr>\n    <tr>\n      <th>7</th>\n      <td>2000013023</td>\n      <td>Beschreibung</td>\n      <td>2022.01.04</td>\n      <td>11:51:38</td>\n      <td>U2PL019MS1 Mariusz Szczubelek</td>\n      <td>P-61-874 Poznan</td>\n      <td>Dear Colleagues,\\nPlease reset password for us...</td>\n      <td>2022-01-04 11:51:38</td>\n    </tr>\n    <tr>\n      <th>10</th>\n      <td>2000013024</td>\n      <td>Beschreibung</td>\n      <td>2022.01.04</td>\n      <td>14:37:58</td>\n      <td>U2TR011PA3 Pelin Atahan</td>\n      <td>T-34794 Cekmekoy Istanbul</td>\n      <td>Hi,\\n\\nI created some user accounts for remote...</td>\n      <td>2022-01-04 14:37:58</td>\n    </tr>\n    <tr>\n      <th>...</th>\n      <td>...</td>\n      <td>...</td>\n      <td>...</td>\n      <td>...</td>\n      <td>...</td>\n      <td>...</td>\n      <td>...</td>\n      <td>...</td>\n    </tr>\n    <tr>\n      <th>6109</th>\n      <td>8000003510</td>\n      <td>Beschreibung</td>\n      <td>2022.12.27</td>\n      <td>17:29:15</td>\n      <td>SOLMAN_BTC</td>\n      <td>-</td>\n      <td>Issue creation test\\n</td>\n      <td>2022-12-27 17:29:15</td>\n    </tr>\n    <tr>\n      <th>6111</th>\n      <td>8000003511</td>\n      <td>Beschreibung</td>\n      <td>2022.12.28</td>\n      <td>17:29:12</td>\n      <td>SOLMAN_BTC</td>\n      <td>-</td>\n      <td>Issue creation test\\n</td>\n      <td>2022-12-28 17:29:12</td>\n    </tr>\n    <tr>\n      <th>6113</th>\n      <td>8000003512</td>\n      <td>Beschreibung</td>\n      <td>2022.12.29</td>\n      <td>17:29:23</td>\n      <td>SOLMAN_BTC</td>\n      <td>-</td>\n      <td>Issue creation test\\n</td>\n      <td>2022-12-29 17:29:23</td>\n    </tr>\n    <tr>\n      <th>6115</th>\n      <td>8000003513</td>\n      <td>Beschreibung</td>\n      <td>2022.12.30</td>\n      <td>17:29:08</td>\n      <td>SOLMAN_BTC</td>\n      <td>-</td>\n      <td>Issue creation test\\n</td>\n      <td>2022-12-30 17:29:08</td>\n    </tr>\n    <tr>\n      <th>6117</th>\n      <td>8000003514</td>\n      <td>Beschreibung</td>\n      <td>2022.12.31</td>\n      <td>17:29:11</td>\n      <td>SOLMAN_BTC</td>\n      <td>-</td>\n      <td>Issue creation test\\n</td>\n      <td>2022-12-31 17:29:11</td>\n    </tr>\n  </tbody>\n</table>\n<p>2495 rows × 8 columns</p>\n</div>"
     },
     "execution_count": 13,
     "metadata": {},
     "output_type": "execute_result"
    }
   ],
   "source": [
    "df_2022"
   ],
   "metadata": {
    "collapsed": false
   }
  },
  {
   "cell_type": "code",
   "execution_count": 14,
   "outputs": [
    {
     "data": {
      "text/plain": "ID\n2000013021   2022-01-03 13:51:04\n2000013022   2022-01-03 15:19:55\n2000013023   2022-01-04 11:51:38\n2000013024   2022-01-04 14:37:58\n2000013025   2022-01-04 16:02:18\n                     ...        \n8000003510   2022-12-27 17:29:15\n8000003511   2022-12-28 17:29:12\n8000003512   2022-12-29 17:29:23\n8000003513   2022-12-30 17:29:08\n8000003514   2022-12-31 17:29:11\nName: timestamp, Length: 1303, dtype: datetime64[ns]"
     },
     "execution_count": 14,
     "metadata": {},
     "output_type": "execute_result"
    }
   ],
   "source": [
    "initial_timestamps = df_2022.groupby('ID')['timestamp'].min()\n",
    "initial_timestamps"
   ],
   "metadata": {
    "collapsed": false
   }
  },
  {
   "cell_type": "code",
   "execution_count": 15,
   "outputs": [],
   "source": [
    "initial_messages = pd.DataFrame({'timestamp': initial_timestamps}).reset_index()\n",
    "initial_messages = initial_messages.merge(df_2022, on=['ID', 'timestamp'], how='left')"
   ],
   "metadata": {
    "collapsed": false
   }
  },
  {
   "cell_type": "code",
   "execution_count": 16,
   "outputs": [
    {
     "data": {
      "text/plain": "              ID           timestamp Nachrichtentyp       Datum   Uhrzeit  \\\n0     2000013021 2022-01-03 13:51:04  Beschreibung   2022.01.03  13:51:04   \n1     2000013022 2022-01-03 15:19:55  Beschreibung   2022.01.03  15:19:55   \n2     2000013023 2022-01-04 11:51:38  Beschreibung   2022.01.04  11:51:38   \n3     2000013024 2022-01-04 14:37:58  Beschreibung   2022.01.04  14:37:58   \n4     2000013025 2022-01-04 16:02:18  Beschreibung   2022.01.04  16:02:18   \n...          ...                 ...            ...         ...       ...   \n1298  8000003510 2022-12-27 17:29:15  Beschreibung   2022.12.27  17:29:15   \n1299  8000003511 2022-12-28 17:29:12  Beschreibung   2022.12.28  17:29:12   \n1300  8000003512 2022-12-29 17:29:23  Beschreibung   2022.12.29  17:29:23   \n1301  8000003513 2022-12-30 17:29:08  Beschreibung   2022.12.30  17:29:08   \n1302  8000003514 2022-12-31 17:29:11  Beschreibung   2022.12.31  17:29:11   \n\n                            Absender                         Ort  \\\n0         H2671TG1 Tobias Güthinger               D-67549 Worms    \n1              H2851US4 UCC Support            D-85748 Garching    \n2     U2PL019MS1 Mariusz Szczubelek             P-61-874 Poznan    \n3           U2TR011PA3 Pelin Atahan   T-34794 Cekmekoy Istanbul    \n4     H2661CL1 Christoph Lauterbach           D-66894 Lambsborn    \n...                              ...                         ...   \n1298                     SOLMAN_BTC                           -    \n1299                     SOLMAN_BTC                           -    \n1300                     SOLMAN_BTC                           -    \n1301                     SOLMAN_BTC                           -    \n1302                     SOLMAN_BTC                           -    \n\n                                                   Text  \n0     Sehr geehrte Damen und Herren,\\nhiermit bitte ...  \n1     Sehr geehrte Damen und Herren,\\n\\nich wünsche ...  \n2     Dear Colleagues,\\nPlease reset password for us...  \n3     Hi,\\n\\nI created some user accounts for remote...  \n4     Der Titel der neu anzulegenden Kachel wird 2-z...  \n...                                                 ...  \n1298                              Issue creation test\\n  \n1299                              Issue creation test\\n  \n1300                              Issue creation test\\n  \n1301                              Issue creation test\\n  \n1302                              Issue creation test\\n  \n\n[1303 rows x 8 columns]",
      "text/html": "<div>\n<style scoped>\n    .dataframe tbody tr th:only-of-type {\n        vertical-align: middle;\n    }\n\n    .dataframe tbody tr th {\n        vertical-align: top;\n    }\n\n    .dataframe thead th {\n        text-align: right;\n    }\n</style>\n<table border=\"1\" class=\"dataframe\">\n  <thead>\n    <tr style=\"text-align: right;\">\n      <th></th>\n      <th>ID</th>\n      <th>timestamp</th>\n      <th>Nachrichtentyp</th>\n      <th>Datum</th>\n      <th>Uhrzeit</th>\n      <th>Absender</th>\n      <th>Ort</th>\n      <th>Text</th>\n    </tr>\n  </thead>\n  <tbody>\n    <tr>\n      <th>0</th>\n      <td>2000013021</td>\n      <td>2022-01-03 13:51:04</td>\n      <td>Beschreibung</td>\n      <td>2022.01.03</td>\n      <td>13:51:04</td>\n      <td>H2671TG1 Tobias Güthinger</td>\n      <td>D-67549 Worms</td>\n      <td>Sehr geehrte Damen und Herren,\\nhiermit bitte ...</td>\n    </tr>\n    <tr>\n      <th>1</th>\n      <td>2000013022</td>\n      <td>2022-01-03 15:19:55</td>\n      <td>Beschreibung</td>\n      <td>2022.01.03</td>\n      <td>15:19:55</td>\n      <td>H2851US4 UCC Support</td>\n      <td>D-85748 Garching</td>\n      <td>Sehr geehrte Damen und Herren,\\n\\nich wünsche ...</td>\n    </tr>\n    <tr>\n      <th>2</th>\n      <td>2000013023</td>\n      <td>2022-01-04 11:51:38</td>\n      <td>Beschreibung</td>\n      <td>2022.01.04</td>\n      <td>11:51:38</td>\n      <td>U2PL019MS1 Mariusz Szczubelek</td>\n      <td>P-61-874 Poznan</td>\n      <td>Dear Colleagues,\\nPlease reset password for us...</td>\n    </tr>\n    <tr>\n      <th>3</th>\n      <td>2000013024</td>\n      <td>2022-01-04 14:37:58</td>\n      <td>Beschreibung</td>\n      <td>2022.01.04</td>\n      <td>14:37:58</td>\n      <td>U2TR011PA3 Pelin Atahan</td>\n      <td>T-34794 Cekmekoy Istanbul</td>\n      <td>Hi,\\n\\nI created some user accounts for remote...</td>\n    </tr>\n    <tr>\n      <th>4</th>\n      <td>2000013025</td>\n      <td>2022-01-04 16:02:18</td>\n      <td>Beschreibung</td>\n      <td>2022.01.04</td>\n      <td>16:02:18</td>\n      <td>H2661CL1 Christoph Lauterbach</td>\n      <td>D-66894 Lambsborn</td>\n      <td>Der Titel der neu anzulegenden Kachel wird 2-z...</td>\n    </tr>\n    <tr>\n      <th>...</th>\n      <td>...</td>\n      <td>...</td>\n      <td>...</td>\n      <td>...</td>\n      <td>...</td>\n      <td>...</td>\n      <td>...</td>\n      <td>...</td>\n    </tr>\n    <tr>\n      <th>1298</th>\n      <td>8000003510</td>\n      <td>2022-12-27 17:29:15</td>\n      <td>Beschreibung</td>\n      <td>2022.12.27</td>\n      <td>17:29:15</td>\n      <td>SOLMAN_BTC</td>\n      <td>-</td>\n      <td>Issue creation test\\n</td>\n    </tr>\n    <tr>\n      <th>1299</th>\n      <td>8000003511</td>\n      <td>2022-12-28 17:29:12</td>\n      <td>Beschreibung</td>\n      <td>2022.12.28</td>\n      <td>17:29:12</td>\n      <td>SOLMAN_BTC</td>\n      <td>-</td>\n      <td>Issue creation test\\n</td>\n    </tr>\n    <tr>\n      <th>1300</th>\n      <td>8000003512</td>\n      <td>2022-12-29 17:29:23</td>\n      <td>Beschreibung</td>\n      <td>2022.12.29</td>\n      <td>17:29:23</td>\n      <td>SOLMAN_BTC</td>\n      <td>-</td>\n      <td>Issue creation test\\n</td>\n    </tr>\n    <tr>\n      <th>1301</th>\n      <td>8000003513</td>\n      <td>2022-12-30 17:29:08</td>\n      <td>Beschreibung</td>\n      <td>2022.12.30</td>\n      <td>17:29:08</td>\n      <td>SOLMAN_BTC</td>\n      <td>-</td>\n      <td>Issue creation test\\n</td>\n    </tr>\n    <tr>\n      <th>1302</th>\n      <td>8000003514</td>\n      <td>2022-12-31 17:29:11</td>\n      <td>Beschreibung</td>\n      <td>2022.12.31</td>\n      <td>17:29:11</td>\n      <td>SOLMAN_BTC</td>\n      <td>-</td>\n      <td>Issue creation test\\n</td>\n    </tr>\n  </tbody>\n</table>\n<p>1303 rows × 8 columns</p>\n</div>"
     },
     "execution_count": 16,
     "metadata": {},
     "output_type": "execute_result"
    }
   ],
   "source": [
    "initial_messages"
   ],
   "metadata": {
    "collapsed": false
   }
  },
  {
   "cell_type": "code",
   "execution_count": null,
   "outputs": [],
   "source": [],
   "metadata": {
    "collapsed": false
   }
  }
 ],
 "metadata": {
  "kernelspec": {
   "display_name": "Python 3",
   "language": "python",
   "name": "python3"
  },
  "language_info": {
   "codemirror_mode": {
    "name": "ipython",
    "version": 2
   },
   "file_extension": ".py",
   "mimetype": "text/x-python",
   "name": "python",
   "nbconvert_exporter": "python",
   "pygments_lexer": "ipython2",
   "version": "2.7.6"
  }
 },
 "nbformat": 4,
 "nbformat_minor": 0
}
