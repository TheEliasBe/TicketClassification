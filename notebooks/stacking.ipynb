{
 "cells": [
  {
   "cell_type": "code",
   "execution_count": 2,
   "metadata": {
    "collapsed": true
   },
   "outputs": [],
   "source": [
    "import pandas as pd"
   ]
  },
  {
   "cell_type": "code",
   "execution_count": 3,
   "outputs": [],
   "source": [
    "gpt_prediction_df_1 = pd.read_csv(\"../data/07_model_output/azure-fog-44.csv\")\n",
    "gpt_prediction_df_2 = pd.read_csv(\"../data/07_model_output/colorful-rain-49.csv\")\n",
    "gpt_prediction_df = pd.concat([gpt_prediction_df_1, gpt_prediction_df_2])\n",
    "translated_df = pd.read_csv(\"../data/02_intermediate/translated_2022.csv\")"
   ],
   "metadata": {
    "collapsed": false
   }
  },
  {
   "cell_type": "code",
   "execution_count": 4,
   "outputs": [],
   "source": [
    "gpt_prediction_df = gpt_prediction_df.rename(columns={\"prompt\": \"Text\"})\n",
    "# reduce text to first 50 characters\n",
    "gpt_prediction_df[\"Text_Short\"] = gpt_prediction_df[\"Text\"].str[:150]\n",
    "translated_df[\"Text_Short\"] = translated_df[\"Text\"].str[:150]"
   ],
   "metadata": {
    "collapsed": false
   }
  },
  {
   "cell_type": "code",
   "execution_count": 12,
   "outputs": [
    {
     "data": {
      "text/plain": "Index(['Text', 'completion', 'classification', 'Text_Short'], dtype='object')"
     },
     "execution_count": 12,
     "metadata": {},
     "output_type": "execute_result"
    }
   ],
   "source": [
    "gpt_prediction_df.columns"
   ],
   "metadata": {
    "collapsed": false
   }
  },
  {
   "cell_type": "code",
   "execution_count": 13,
   "outputs": [
    {
     "name": "stdout",
     "output_type": "stream",
     "text": [
      "Accuracy 0.8642857142857143\n"
     ]
    }
   ],
   "source": [
    "correct = len(gpt_prediction_df[gpt_prediction_df[\"completion\"] == gpt_prediction_df[\"classification\"]])\n",
    "all = len(gpt_prediction_df)\n",
    "gpt_accuracy = correct / all\n",
    "print(f\"Accuracy {correct / all}\")"
   ],
   "metadata": {
    "collapsed": false
   }
  },
  {
   "cell_type": "code",
   "execution_count": 7,
   "outputs": [
    {
     "name": "stdout",
     "output_type": "stream",
     "text": [
      "164\n"
     ]
    },
    {
     "data": {
      "text/plain": "                                                Text_x completion  \\\n0    Hi Team,  Good Morning.  When trying to login ...     second   \n1    Hi Team,  Good Morning.  When trying to login ...     second   \n2    <PERSON>, here the request from Neu-Ulm to cre...     second   \n3    <PERSON>, here the request from Neu-Ulm to cre...     second   \n4    <PERSON>, here the request from Neu-Ulm to cre...     second   \n..                                                 ...        ...   \n159  Hi Christine,  As mentioned in the renewal req...     second   \n160  Ladies and gentlemen, as offered in your mail ...     second   \n161  Ladies and gentlemen, as offered in your mail ...     second   \n162  Dear UCC Support Team, unfortunately the event...     second   \n163  Dear UCC Support Team, unfortunately the event...     second   \n\n    classification                                         Text_Short  \\\n0           second  Hi Team,  Good Morning.  When trying to login ...   \n1           second  Hi Team,  Good Morning.  When trying to login ...   \n2           second  <PERSON>, here the request from Neu-Ulm to cre...   \n3           second  <PERSON>, here the request from Neu-Ulm to cre...   \n4           second  <PERSON>, here the request from Neu-Ulm to cre...   \n..             ...                                                ...   \n159         second  Hi Christine,  As mentioned in the renewal req...   \n160          first  Ladies and gentlemen, as offered in your mail ...   \n161         second  Ladies and gentlemen, as offered in your mail ...   \n162         second  Dear UCC Support Team, unfortunately the event...   \n163         second  Dear UCC Support Team, unfortunately the event...   \n\n    Ticket Label Abteilung Label                           Produkt Label  \\\n0      2. Level     Applikation                                  ERPsim    \n1      2. Level     Applikation                                  ERPsim    \n2      2. Level           Basis         Entwicklungssystem bzw. Mandant    \n3      2. Level           Basis         Entwicklungssystem bzw. Mandant    \n4      2. Level           Basis         Entwicklungssystem bzw. Mandant    \n..           ...             ...                                     ...   \n159    2. Level         Vertrag                                    HANA    \n160    2. Level     Applikation                                     GBI    \n161    2. Level     Applikation                                     GBI    \n162    2. Level           Basis   GBS/Digital Transformation Curriculum    \n163    2. Level           Basis   GBS/Digital Transformation Curriculum    \n\n                                                Text_y          ID  \n0    Hi Team,  Good Morning.  When trying to login ...  2000013035  \n1    Hi Team,  Good Morning.  When trying to login ...  2000013035  \n2    <PERSON>, here the request from Neu-Ulm to cre...  2000013089  \n3    <PERSON>, here the request from Neu-Ulm to cre...  2000013089  \n4    <PERSON>, here the request from Neu-Ulm to cre...  2000013089  \n..                                                 ...         ...  \n159  Hi Christine,  As mentioned in the renewal req...  2000013853  \n160  Ladies and gentlemen, as offered in your mail ...  2000013903  \n161  Ladies and gentlemen, as offered in your mail ...  2000013903  \n162  Dear UCC Support Team, unfortunately the event...  2000013984  \n163  Dear UCC Support Team, unfortunately the event...  2000013984  \n\n[164 rows x 9 columns]",
      "text/html": "<div>\n<style scoped>\n    .dataframe tbody tr th:only-of-type {\n        vertical-align: middle;\n    }\n\n    .dataframe tbody tr th {\n        vertical-align: top;\n    }\n\n    .dataframe thead th {\n        text-align: right;\n    }\n</style>\n<table border=\"1\" class=\"dataframe\">\n  <thead>\n    <tr style=\"text-align: right;\">\n      <th></th>\n      <th>Text_x</th>\n      <th>completion</th>\n      <th>classification</th>\n      <th>Text_Short</th>\n      <th>Ticket Label</th>\n      <th>Abteilung Label</th>\n      <th>Produkt Label</th>\n      <th>Text_y</th>\n      <th>ID</th>\n    </tr>\n  </thead>\n  <tbody>\n    <tr>\n      <th>0</th>\n      <td>Hi Team,  Good Morning.  When trying to login ...</td>\n      <td>second</td>\n      <td>second</td>\n      <td>Hi Team,  Good Morning.  When trying to login ...</td>\n      <td>2. Level</td>\n      <td>Applikation</td>\n      <td>ERPsim</td>\n      <td>Hi Team,  Good Morning.  When trying to login ...</td>\n      <td>2000013035</td>\n    </tr>\n    <tr>\n      <th>1</th>\n      <td>Hi Team,  Good Morning.  When trying to login ...</td>\n      <td>second</td>\n      <td>second</td>\n      <td>Hi Team,  Good Morning.  When trying to login ...</td>\n      <td>2. Level</td>\n      <td>Applikation</td>\n      <td>ERPsim</td>\n      <td>Hi Team,  Good Morning.  When trying to login ...</td>\n      <td>2000013035</td>\n    </tr>\n    <tr>\n      <th>2</th>\n      <td>&lt;PERSON&gt;, here the request from Neu-Ulm to cre...</td>\n      <td>second</td>\n      <td>second</td>\n      <td>&lt;PERSON&gt;, here the request from Neu-Ulm to cre...</td>\n      <td>2. Level</td>\n      <td>Basis</td>\n      <td>Entwicklungssystem bzw. Mandant</td>\n      <td>&lt;PERSON&gt;, here the request from Neu-Ulm to cre...</td>\n      <td>2000013089</td>\n    </tr>\n    <tr>\n      <th>3</th>\n      <td>&lt;PERSON&gt;, here the request from Neu-Ulm to cre...</td>\n      <td>second</td>\n      <td>second</td>\n      <td>&lt;PERSON&gt;, here the request from Neu-Ulm to cre...</td>\n      <td>2. Level</td>\n      <td>Basis</td>\n      <td>Entwicklungssystem bzw. Mandant</td>\n      <td>&lt;PERSON&gt;, here the request from Neu-Ulm to cre...</td>\n      <td>2000013089</td>\n    </tr>\n    <tr>\n      <th>4</th>\n      <td>&lt;PERSON&gt;, here the request from Neu-Ulm to cre...</td>\n      <td>second</td>\n      <td>second</td>\n      <td>&lt;PERSON&gt;, here the request from Neu-Ulm to cre...</td>\n      <td>2. Level</td>\n      <td>Basis</td>\n      <td>Entwicklungssystem bzw. Mandant</td>\n      <td>&lt;PERSON&gt;, here the request from Neu-Ulm to cre...</td>\n      <td>2000013089</td>\n    </tr>\n    <tr>\n      <th>...</th>\n      <td>...</td>\n      <td>...</td>\n      <td>...</td>\n      <td>...</td>\n      <td>...</td>\n      <td>...</td>\n      <td>...</td>\n      <td>...</td>\n      <td>...</td>\n    </tr>\n    <tr>\n      <th>159</th>\n      <td>Hi Christine,  As mentioned in the renewal req...</td>\n      <td>second</td>\n      <td>second</td>\n      <td>Hi Christine,  As mentioned in the renewal req...</td>\n      <td>2. Level</td>\n      <td>Vertrag</td>\n      <td>HANA</td>\n      <td>Hi Christine,  As mentioned in the renewal req...</td>\n      <td>2000013853</td>\n    </tr>\n    <tr>\n      <th>160</th>\n      <td>Ladies and gentlemen, as offered in your mail ...</td>\n      <td>second</td>\n      <td>first</td>\n      <td>Ladies and gentlemen, as offered in your mail ...</td>\n      <td>2. Level</td>\n      <td>Applikation</td>\n      <td>GBI</td>\n      <td>Ladies and gentlemen, as offered in your mail ...</td>\n      <td>2000013903</td>\n    </tr>\n    <tr>\n      <th>161</th>\n      <td>Ladies and gentlemen, as offered in your mail ...</td>\n      <td>second</td>\n      <td>second</td>\n      <td>Ladies and gentlemen, as offered in your mail ...</td>\n      <td>2. Level</td>\n      <td>Applikation</td>\n      <td>GBI</td>\n      <td>Ladies and gentlemen, as offered in your mail ...</td>\n      <td>2000013903</td>\n    </tr>\n    <tr>\n      <th>162</th>\n      <td>Dear UCC Support Team, unfortunately the event...</td>\n      <td>second</td>\n      <td>second</td>\n      <td>Dear UCC Support Team, unfortunately the event...</td>\n      <td>2. Level</td>\n      <td>Basis</td>\n      <td>GBS/Digital Transformation Curriculum</td>\n      <td>Dear UCC Support Team, unfortunately the event...</td>\n      <td>2000013984</td>\n    </tr>\n    <tr>\n      <th>163</th>\n      <td>Dear UCC Support Team, unfortunately the event...</td>\n      <td>second</td>\n      <td>second</td>\n      <td>Dear UCC Support Team, unfortunately the event...</td>\n      <td>2. Level</td>\n      <td>Basis</td>\n      <td>GBS/Digital Transformation Curriculum</td>\n      <td>Dear UCC Support Team, unfortunately the event...</td>\n      <td>2000013984</td>\n    </tr>\n  </tbody>\n</table>\n<p>164 rows × 9 columns</p>\n</div>"
     },
     "execution_count": 7,
     "metadata": {},
     "output_type": "execute_result"
    }
   ],
   "source": [
    "# match on the original text\n",
    "merged_df = pd.merge(gpt_prediction_df, translated_df, on=\"Text_Short\", how=\"inner\")\n",
    "print(len(merged_df))\n",
    "merged_df"
   ],
   "metadata": {
    "collapsed": false
   }
  },
  {
   "cell_type": "code",
   "execution_count": 8,
   "outputs": [
    {
     "data": {
      "text/plain": "1315"
     },
     "execution_count": 8,
     "metadata": {},
     "output_type": "execute_result"
    }
   ],
   "source": [
    "tickets = pd.read_csv(\"../data/01_raw/2022/tickets.csv\")\n",
    "len(tickets)"
   ],
   "metadata": {
    "collapsed": false
   }
  },
  {
   "cell_type": "code",
   "execution_count": 9,
   "outputs": [
    {
     "data": {
      "text/plain": "                                                Text_x completion  \\\n0    Hi Team,  Good Morning.  When trying to login ...     second   \n1    Hi Team,  Good Morning.  When trying to login ...     second   \n2    <PERSON>, here the request from Neu-Ulm to cre...     second   \n3    <PERSON>, here the request from Neu-Ulm to cre...     second   \n4    <PERSON>, here the request from Neu-Ulm to cre...     second   \n..                                                 ...        ...   \n159  Hi Christine,  As mentioned in the renewal req...     second   \n160  Ladies and gentlemen, as offered in your mail ...     second   \n161  Ladies and gentlemen, as offered in your mail ...     second   \n162  Dear UCC Support Team, unfortunately the event...     second   \n163  Dear UCC Support Team, unfortunately the event...     second   \n\n    classification                                         Text_Short  \\\n0           second  Hi Team,  Good Morning.  When trying to login ...   \n1           second  Hi Team,  Good Morning.  When trying to login ...   \n2           second  <PERSON>, here the request from Neu-Ulm to cre...   \n3           second  <PERSON>, here the request from Neu-Ulm to cre...   \n4           second  <PERSON>, here the request from Neu-Ulm to cre...   \n..             ...                                                ...   \n159         second  Hi Christine,  As mentioned in the renewal req...   \n160          first  Ladies and gentlemen, as offered in your mail ...   \n161         second  Ladies and gentlemen, as offered in your mail ...   \n162         second  Dear UCC Support Team, unfortunately the event...   \n163         second  Dear UCC Support Team, unfortunately the event...   \n\n    Ticket Label_x Abteilung Label_x                         Produkt Label_x  \\\n0        2. Level       Applikation                                  ERPsim    \n1        2. Level       Applikation                                  ERPsim    \n2        2. Level             Basis         Entwicklungssystem bzw. Mandant    \n3        2. Level             Basis         Entwicklungssystem bzw. Mandant    \n4        2. Level             Basis         Entwicklungssystem bzw. Mandant    \n..             ...               ...                                     ...   \n159      2. Level           Vertrag                                    HANA    \n160      2. Level       Applikation                                     GBI    \n161      2. Level       Applikation                                     GBI    \n162      2. Level             Basis   GBS/Digital Transformation Curriculum    \n163      2. Level             Basis   GBS/Digital Transformation Curriculum    \n\n                                                Text_y          ID  \\\n0    Hi Team,  Good Morning.  When trying to login ...  2000013035   \n1    Hi Team,  Good Morning.  When trying to login ...  2000013035   \n2    <PERSON>, here the request from Neu-Ulm to cre...  2000013089   \n3    <PERSON>, here the request from Neu-Ulm to cre...  2000013089   \n4    <PERSON>, here the request from Neu-Ulm to cre...  2000013089   \n..                                                 ...         ...   \n159  Hi Christine,  As mentioned in the renewal req...  2000013853   \n160  Ladies and gentlemen, as offered in your mail ...  2000013903   \n161  Ladies and gentlemen, as offered in your mail ...  2000013903   \n162  Dear UCC Support Team, unfortunately the event...  2000013984   \n163  Dear UCC Support Team, unfortunately the event...  2000013984   \n\n                                 Beschreibung  ...           Angelegt Am  \\\n0    EPRsim 2021 - WEB-GUI logon button error  ...  2022.01.07\\t05:52:01   \n1    EPRsim 2021 - WEB-GUI logon button error  ...  2022.01.07\\t05:52:01   \n2                 Backup W15 S/4HANA Neu-Ulm   ...  2022.01.31\\t15:22:29   \n3                 Backup W15 S/4HANA Neu-Ulm   ...  2022.01.31\\t15:22:29   \n4                 Backup W15 S/4HANA Neu-Ulm   ...  2022.01.31\\t15:22:29   \n..                                        ...  ...                   ...   \n159               System request for MMUFIST   ...  2022.10.31\\t01:21:14   \n160               Testzugang für Version 4.1   ...  2022.11.18\\t12:16:36   \n161               Testzugang für Version 4.1   ...  2022.11.18\\t12:16:36   \n162        Ereignis-Trace funktioniert nicht   ...  2022.12.22\\t16:31:03   \n163        Ereignis-Trace funktioniert nicht   ...  2022.12.22\\t16:31:03   \n\n    Angelegt Von           Geändert Am Geändert Von  \\\n0    U2AU002SB1   2022.02.02\\t18:00:11       BORYS    \n1    U2AU002SB1   2022.02.02\\t18:00:11       BORYS    \n2      H2851MS3   2022.02.07\\t23:20:50    H2851MS3    \n3      H2851MS3   2022.02.07\\t23:20:50    H2851MS3    \n4      H2851MS3   2022.02.07\\t23:20:50    H2851MS3    \n..           ...                   ...          ...   \n159  U2AU002SB1   2022.11.30\\t18:00:05       BORYS    \n160    H2852RS1   2022.12.01\\t14:32:04    H2851PL1    \n161    H2852RS1   2022.12.01\\t14:32:04    H2851PL1    \n162    H2901RW1   2023.01.24\\t12:17:28    H2901RW1    \n163    H2901RW1   2023.01.24\\t12:17:28    H2901RW1    \n\n                                          Auftraggeber  \\\n0    U2AU002 ACC Melbourne Victoria University Busi...   \n1    U2AU002 ACC Melbourne Victoria University Busi...   \n2                H2851 Technische Universität München    \n3                H2851 Technische Universität München    \n4                H2851 Technische Universität München    \n..                                                 ...   \n159  U2AU002 ACC Melbourne Victoria University Busi...   \n160  H2852 Technikerschule der Stadt Ingolstadt - T...   \n161  H2852 Technikerschule der Stadt Ingolstadt - T...   \n162  H2901 Technische Hochschule Nürnberg Georg Sim...   \n163  H2901 Technische Hochschule Nürnberg Georg Sim...   \n\n                          Meldender                     Support Team  \\\n0    U2AU002SB1 Herr Scott Bingley       0000000047 APP Applikation    \n1    U2AU002SB1 Herr Scott Bingley       0000000047 APP Applikation    \n2    H2851MS3 Herr Marwin Shraideh             0000000046 BAS Basis    \n3    H2851MS3 Herr Marwin Shraideh             0000000046 BAS Basis    \n4    H2851MS3 Herr Marwin Shraideh             0000000046 BAS Basis    \n..                              ...                              ...   \n159  U2AU002SB1 Herr Scott Bingley   0000000044 UCC UCC Supportteam    \n160    H2852RS1 Frau Regina Herzog       0000000047 APP Applikation    \n161    H2852RS1 Frau Regina Herzog       0000000047 APP Applikation    \n162     H2901RW1 Herr Rainer Weber             0000000046 BAS Basis    \n163     H2901RW1 Herr Rainer Weber             0000000046 BAS Basis    \n\n                        Bearbeiter       Erste Nachricht      Letzte Nachricht  \n0        H2851SH5 Frau Sophie Heim  2022.01.07\\t05:52:01  2022.02.02\\t18:00:11  \n1        H2851SH5 Frau Sophie Heim  2022.01.07\\t05:52:01  2022.02.02\\t18:00:11  \n2         H2851EW2 Frau Elena Wolz  2022.01.31\\t15:22:28  2022.02.01\\t14:13:29  \n3         H2851EW2 Frau Elena Wolz  2022.01.31\\t15:22:28  2022.02.01\\t14:13:29  \n4         H2851EW2 Frau Elena Wolz  2022.01.31\\t15:22:28  2022.02.01\\t14:13:29  \n..                             ...                   ...                   ...  \n159  H2851MS3 Herr Marwin Shraideh  2022.10.31\\t01:21:14  2022.11.30\\t18:00:05  \n160  H2851PL1 Herr Philipp Landler  2022.11.18\\t12:16:36  2022.12.01\\t14:32:04  \n161  H2851PL1 Herr Philipp Landler  2022.11.18\\t12:16:36  2022.12.01\\t14:32:04  \n162    H2851JR2 Herr Johannes Rank  2022.12.22\\t16:31:03  2023.01.24\\t12:17:28  \n163    H2851JR2 Herr Johannes Rank  2022.12.22\\t16:31:03  2023.01.24\\t12:17:28  \n\n[164 rows x 29 columns]",
      "text/html": "<div>\n<style scoped>\n    .dataframe tbody tr th:only-of-type {\n        vertical-align: middle;\n    }\n\n    .dataframe tbody tr th {\n        vertical-align: top;\n    }\n\n    .dataframe thead th {\n        text-align: right;\n    }\n</style>\n<table border=\"1\" class=\"dataframe\">\n  <thead>\n    <tr style=\"text-align: right;\">\n      <th></th>\n      <th>Text_x</th>\n      <th>completion</th>\n      <th>classification</th>\n      <th>Text_Short</th>\n      <th>Ticket Label_x</th>\n      <th>Abteilung Label_x</th>\n      <th>Produkt Label_x</th>\n      <th>Text_y</th>\n      <th>ID</th>\n      <th>Beschreibung</th>\n      <th>...</th>\n      <th>Angelegt Am</th>\n      <th>Angelegt Von</th>\n      <th>Geändert Am</th>\n      <th>Geändert Von</th>\n      <th>Auftraggeber</th>\n      <th>Meldender</th>\n      <th>Support Team</th>\n      <th>Bearbeiter</th>\n      <th>Erste Nachricht</th>\n      <th>Letzte Nachricht</th>\n    </tr>\n  </thead>\n  <tbody>\n    <tr>\n      <th>0</th>\n      <td>Hi Team,  Good Morning.  When trying to login ...</td>\n      <td>second</td>\n      <td>second</td>\n      <td>Hi Team,  Good Morning.  When trying to login ...</td>\n      <td>2. Level</td>\n      <td>Applikation</td>\n      <td>ERPsim</td>\n      <td>Hi Team,  Good Morning.  When trying to login ...</td>\n      <td>2000013035</td>\n      <td>EPRsim 2021 - WEB-GUI logon button error</td>\n      <td>...</td>\n      <td>2022.01.07\\t05:52:01</td>\n      <td>U2AU002SB1</td>\n      <td>2022.02.02\\t18:00:11</td>\n      <td>BORYS</td>\n      <td>U2AU002 ACC Melbourne Victoria University Busi...</td>\n      <td>U2AU002SB1 Herr Scott Bingley</td>\n      <td>0000000047 APP Applikation</td>\n      <td>H2851SH5 Frau Sophie Heim</td>\n      <td>2022.01.07\\t05:52:01</td>\n      <td>2022.02.02\\t18:00:11</td>\n    </tr>\n    <tr>\n      <th>1</th>\n      <td>Hi Team,  Good Morning.  When trying to login ...</td>\n      <td>second</td>\n      <td>second</td>\n      <td>Hi Team,  Good Morning.  When trying to login ...</td>\n      <td>2. Level</td>\n      <td>Applikation</td>\n      <td>ERPsim</td>\n      <td>Hi Team,  Good Morning.  When trying to login ...</td>\n      <td>2000013035</td>\n      <td>EPRsim 2021 - WEB-GUI logon button error</td>\n      <td>...</td>\n      <td>2022.01.07\\t05:52:01</td>\n      <td>U2AU002SB1</td>\n      <td>2022.02.02\\t18:00:11</td>\n      <td>BORYS</td>\n      <td>U2AU002 ACC Melbourne Victoria University Busi...</td>\n      <td>U2AU002SB1 Herr Scott Bingley</td>\n      <td>0000000047 APP Applikation</td>\n      <td>H2851SH5 Frau Sophie Heim</td>\n      <td>2022.01.07\\t05:52:01</td>\n      <td>2022.02.02\\t18:00:11</td>\n    </tr>\n    <tr>\n      <th>2</th>\n      <td>&lt;PERSON&gt;, here the request from Neu-Ulm to cre...</td>\n      <td>second</td>\n      <td>second</td>\n      <td>&lt;PERSON&gt;, here the request from Neu-Ulm to cre...</td>\n      <td>2. Level</td>\n      <td>Basis</td>\n      <td>Entwicklungssystem bzw. Mandant</td>\n      <td>&lt;PERSON&gt;, here the request from Neu-Ulm to cre...</td>\n      <td>2000013089</td>\n      <td>Backup W15 S/4HANA Neu-Ulm</td>\n      <td>...</td>\n      <td>2022.01.31\\t15:22:29</td>\n      <td>H2851MS3</td>\n      <td>2022.02.07\\t23:20:50</td>\n      <td>H2851MS3</td>\n      <td>H2851 Technische Universität München</td>\n      <td>H2851MS3 Herr Marwin Shraideh</td>\n      <td>0000000046 BAS Basis</td>\n      <td>H2851EW2 Frau Elena Wolz</td>\n      <td>2022.01.31\\t15:22:28</td>\n      <td>2022.02.01\\t14:13:29</td>\n    </tr>\n    <tr>\n      <th>3</th>\n      <td>&lt;PERSON&gt;, here the request from Neu-Ulm to cre...</td>\n      <td>second</td>\n      <td>second</td>\n      <td>&lt;PERSON&gt;, here the request from Neu-Ulm to cre...</td>\n      <td>2. Level</td>\n      <td>Basis</td>\n      <td>Entwicklungssystem bzw. Mandant</td>\n      <td>&lt;PERSON&gt;, here the request from Neu-Ulm to cre...</td>\n      <td>2000013089</td>\n      <td>Backup W15 S/4HANA Neu-Ulm</td>\n      <td>...</td>\n      <td>2022.01.31\\t15:22:29</td>\n      <td>H2851MS3</td>\n      <td>2022.02.07\\t23:20:50</td>\n      <td>H2851MS3</td>\n      <td>H2851 Technische Universität München</td>\n      <td>H2851MS3 Herr Marwin Shraideh</td>\n      <td>0000000046 BAS Basis</td>\n      <td>H2851EW2 Frau Elena Wolz</td>\n      <td>2022.01.31\\t15:22:28</td>\n      <td>2022.02.01\\t14:13:29</td>\n    </tr>\n    <tr>\n      <th>4</th>\n      <td>&lt;PERSON&gt;, here the request from Neu-Ulm to cre...</td>\n      <td>second</td>\n      <td>second</td>\n      <td>&lt;PERSON&gt;, here the request from Neu-Ulm to cre...</td>\n      <td>2. Level</td>\n      <td>Basis</td>\n      <td>Entwicklungssystem bzw. Mandant</td>\n      <td>&lt;PERSON&gt;, here the request from Neu-Ulm to cre...</td>\n      <td>2000013089</td>\n      <td>Backup W15 S/4HANA Neu-Ulm</td>\n      <td>...</td>\n      <td>2022.01.31\\t15:22:29</td>\n      <td>H2851MS3</td>\n      <td>2022.02.07\\t23:20:50</td>\n      <td>H2851MS3</td>\n      <td>H2851 Technische Universität München</td>\n      <td>H2851MS3 Herr Marwin Shraideh</td>\n      <td>0000000046 BAS Basis</td>\n      <td>H2851EW2 Frau Elena Wolz</td>\n      <td>2022.01.31\\t15:22:28</td>\n      <td>2022.02.01\\t14:13:29</td>\n    </tr>\n    <tr>\n      <th>...</th>\n      <td>...</td>\n      <td>...</td>\n      <td>...</td>\n      <td>...</td>\n      <td>...</td>\n      <td>...</td>\n      <td>...</td>\n      <td>...</td>\n      <td>...</td>\n      <td>...</td>\n      <td>...</td>\n      <td>...</td>\n      <td>...</td>\n      <td>...</td>\n      <td>...</td>\n      <td>...</td>\n      <td>...</td>\n      <td>...</td>\n      <td>...</td>\n      <td>...</td>\n      <td>...</td>\n    </tr>\n    <tr>\n      <th>159</th>\n      <td>Hi Christine,  As mentioned in the renewal req...</td>\n      <td>second</td>\n      <td>second</td>\n      <td>Hi Christine,  As mentioned in the renewal req...</td>\n      <td>2. Level</td>\n      <td>Vertrag</td>\n      <td>HANA</td>\n      <td>Hi Christine,  As mentioned in the renewal req...</td>\n      <td>2000013853</td>\n      <td>System request for MMUFIST</td>\n      <td>...</td>\n      <td>2022.10.31\\t01:21:14</td>\n      <td>U2AU002SB1</td>\n      <td>2022.11.30\\t18:00:05</td>\n      <td>BORYS</td>\n      <td>U2AU002 ACC Melbourne Victoria University Busi...</td>\n      <td>U2AU002SB1 Herr Scott Bingley</td>\n      <td>0000000044 UCC UCC Supportteam</td>\n      <td>H2851MS3 Herr Marwin Shraideh</td>\n      <td>2022.10.31\\t01:21:14</td>\n      <td>2022.11.30\\t18:00:05</td>\n    </tr>\n    <tr>\n      <th>160</th>\n      <td>Ladies and gentlemen, as offered in your mail ...</td>\n      <td>second</td>\n      <td>first</td>\n      <td>Ladies and gentlemen, as offered in your mail ...</td>\n      <td>2. Level</td>\n      <td>Applikation</td>\n      <td>GBI</td>\n      <td>Ladies and gentlemen, as offered in your mail ...</td>\n      <td>2000013903</td>\n      <td>Testzugang für Version 4.1</td>\n      <td>...</td>\n      <td>2022.11.18\\t12:16:36</td>\n      <td>H2852RS1</td>\n      <td>2022.12.01\\t14:32:04</td>\n      <td>H2851PL1</td>\n      <td>H2852 Technikerschule der Stadt Ingolstadt - T...</td>\n      <td>H2852RS1 Frau Regina Herzog</td>\n      <td>0000000047 APP Applikation</td>\n      <td>H2851PL1 Herr Philipp Landler</td>\n      <td>2022.11.18\\t12:16:36</td>\n      <td>2022.12.01\\t14:32:04</td>\n    </tr>\n    <tr>\n      <th>161</th>\n      <td>Ladies and gentlemen, as offered in your mail ...</td>\n      <td>second</td>\n      <td>second</td>\n      <td>Ladies and gentlemen, as offered in your mail ...</td>\n      <td>2. Level</td>\n      <td>Applikation</td>\n      <td>GBI</td>\n      <td>Ladies and gentlemen, as offered in your mail ...</td>\n      <td>2000013903</td>\n      <td>Testzugang für Version 4.1</td>\n      <td>...</td>\n      <td>2022.11.18\\t12:16:36</td>\n      <td>H2852RS1</td>\n      <td>2022.12.01\\t14:32:04</td>\n      <td>H2851PL1</td>\n      <td>H2852 Technikerschule der Stadt Ingolstadt - T...</td>\n      <td>H2852RS1 Frau Regina Herzog</td>\n      <td>0000000047 APP Applikation</td>\n      <td>H2851PL1 Herr Philipp Landler</td>\n      <td>2022.11.18\\t12:16:36</td>\n      <td>2022.12.01\\t14:32:04</td>\n    </tr>\n    <tr>\n      <th>162</th>\n      <td>Dear UCC Support Team, unfortunately the event...</td>\n      <td>second</td>\n      <td>second</td>\n      <td>Dear UCC Support Team, unfortunately the event...</td>\n      <td>2. Level</td>\n      <td>Basis</td>\n      <td>GBS/Digital Transformation Curriculum</td>\n      <td>Dear UCC Support Team, unfortunately the event...</td>\n      <td>2000013984</td>\n      <td>Ereignis-Trace funktioniert nicht</td>\n      <td>...</td>\n      <td>2022.12.22\\t16:31:03</td>\n      <td>H2901RW1</td>\n      <td>2023.01.24\\t12:17:28</td>\n      <td>H2901RW1</td>\n      <td>H2901 Technische Hochschule Nürnberg Georg Sim...</td>\n      <td>H2901RW1 Herr Rainer Weber</td>\n      <td>0000000046 BAS Basis</td>\n      <td>H2851JR2 Herr Johannes Rank</td>\n      <td>2022.12.22\\t16:31:03</td>\n      <td>2023.01.24\\t12:17:28</td>\n    </tr>\n    <tr>\n      <th>163</th>\n      <td>Dear UCC Support Team, unfortunately the event...</td>\n      <td>second</td>\n      <td>second</td>\n      <td>Dear UCC Support Team, unfortunately the event...</td>\n      <td>2. Level</td>\n      <td>Basis</td>\n      <td>GBS/Digital Transformation Curriculum</td>\n      <td>Dear UCC Support Team, unfortunately the event...</td>\n      <td>2000013984</td>\n      <td>Ereignis-Trace funktioniert nicht</td>\n      <td>...</td>\n      <td>2022.12.22\\t16:31:03</td>\n      <td>H2901RW1</td>\n      <td>2023.01.24\\t12:17:28</td>\n      <td>H2901RW1</td>\n      <td>H2901 Technische Hochschule Nürnberg Georg Sim...</td>\n      <td>H2901RW1 Herr Rainer Weber</td>\n      <td>0000000046 BAS Basis</td>\n      <td>H2851JR2 Herr Johannes Rank</td>\n      <td>2022.12.22\\t16:31:03</td>\n      <td>2023.01.24\\t12:17:28</td>\n    </tr>\n  </tbody>\n</table>\n<p>164 rows × 29 columns</p>\n</div>"
     },
     "execution_count": 9,
     "metadata": {},
     "output_type": "execute_result"
    }
   ],
   "source": [
    "# merge on ID\n",
    "merged_df = pd.merge(merged_df, tickets, on=\"ID\")\n",
    "merged_df"
   ],
   "metadata": {
    "collapsed": false
   }
  },
  {
   "cell_type": "code",
   "execution_count": 27,
   "outputs": [
    {
     "data": {
      "text/plain": "Kategorie ID         object\nUnterkategorie ID    object\nclassification       object\ncompletion           object\ndtype: object"
     },
     "execution_count": 27,
     "metadata": {},
     "output_type": "execute_result"
    }
   ],
   "source": [
    "model_input = merged_df[[\"Kategorie ID\", \"Unterkategorie ID\", \"classification\", \"completion\"]]\n",
    "model_input.dtypes"
   ],
   "metadata": {
    "collapsed": false
   }
  },
  {
   "cell_type": "code",
   "execution_count": 28,
   "outputs": [
    {
     "name": "stderr",
     "output_type": "stream",
     "text": [
      "/var/folders/bq/l2q_cb9j6bj21nlxmzykz44r0000gn/T/ipykernel_37874/3339134569.py:2: SettingWithCopyWarning: \n",
      "A value is trying to be set on a copy of a slice from a DataFrame.\n",
      "Try using .loc[row_indexer,col_indexer] = value instead\n",
      "\n",
      "See the caveats in the documentation: https://pandas.pydata.org/pandas-docs/stable/user_guide/indexing.html#returning-a-view-versus-a-copy\n",
      "  model_input[\"Kategorie ID\"] = model_input[\"Kategorie ID\"].astype(\"category\")\n",
      "/var/folders/bq/l2q_cb9j6bj21nlxmzykz44r0000gn/T/ipykernel_37874/3339134569.py:3: SettingWithCopyWarning: \n",
      "A value is trying to be set on a copy of a slice from a DataFrame.\n",
      "Try using .loc[row_indexer,col_indexer] = value instead\n",
      "\n",
      "See the caveats in the documentation: https://pandas.pydata.org/pandas-docs/stable/user_guide/indexing.html#returning-a-view-versus-a-copy\n",
      "  model_input[\"Unterkategorie ID\"] = model_input[\"Kategorie ID\"].astype(\"category\")\n",
      "/var/folders/bq/l2q_cb9j6bj21nlxmzykz44r0000gn/T/ipykernel_37874/3339134569.py:4: SettingWithCopyWarning: \n",
      "A value is trying to be set on a copy of a slice from a DataFrame.\n",
      "Try using .loc[row_indexer,col_indexer] = value instead\n",
      "\n",
      "See the caveats in the documentation: https://pandas.pydata.org/pandas-docs/stable/user_guide/indexing.html#returning-a-view-versus-a-copy\n",
      "  model_input[\"classification\"] = model_input[\"classification\"].astype(\"category\")\n",
      "/var/folders/bq/l2q_cb9j6bj21nlxmzykz44r0000gn/T/ipykernel_37874/3339134569.py:5: SettingWithCopyWarning: \n",
      "A value is trying to be set on a copy of a slice from a DataFrame.\n",
      "Try using .loc[row_indexer,col_indexer] = value instead\n",
      "\n",
      "See the caveats in the documentation: https://pandas.pydata.org/pandas-docs/stable/user_guide/indexing.html#returning-a-view-versus-a-copy\n",
      "  model_input[\"completion\"] = model_input[\"completion\"].astype(\"category\")\n"
     ]
    }
   ],
   "source": [
    "# Kategorie ID to categorical\n",
    "model_input[\"Kategorie ID\"] = model_input[\"Kategorie ID\"].astype(\"category\")\n",
    "model_input[\"Unterkategorie ID\"] = model_input[\"Kategorie ID\"].astype(\"category\")\n",
    "model_input[\"classification\"] = model_input[\"classification\"].astype(\"category\")\n",
    "model_input[\"completion\"] = model_input[\"completion\"].astype(\"category\")"
   ],
   "metadata": {
    "collapsed": false
   }
  },
  {
   "cell_type": "code",
   "execution_count": 29,
   "outputs": [
    {
     "data": {
      "text/plain": "Kategorie ID         category\nUnterkategorie ID    category\nclassification       category\ncompletion           category\ndtype: object"
     },
     "execution_count": 29,
     "metadata": {},
     "output_type": "execute_result"
    }
   ],
   "source": [
    "model_input.dtypes"
   ],
   "metadata": {
    "collapsed": false
   }
  },
  {
   "cell_type": "code",
   "execution_count": 30,
   "outputs": [
    {
     "data": {
      "text/plain": "    completion  Kategorie ID_ZSD_SR_AA   Kategorie ID_ZSD_SR_BW   \\\n0        first                        0                        0   \n1        first                        0                        0   \n2       second                        0                        0   \n3       second                        0                        0   \n4        first                        0                        0   \n..         ...                      ...                      ...   \n273     second                        0                        0   \n274     second                        0                        0   \n275     second                        0                        0   \n276     second                        0                        0   \n277     second                        0                        0   \n\n     Kategorie ID_ZSD_SR_BYD   Kategorie ID_ZSD_SR_ES   \\\n0                           0                        0   \n1                           0                        0   \n2                           0                        0   \n3                           0                        0   \n4                           0                        0   \n..                        ...                      ...   \n273                         0                        0   \n274                         0                        0   \n275                         0                        0   \n276                         0                        0   \n277                         0                        0   \n\n     Kategorie ID_ZSD_SR_GBI   Kategorie ID_ZSD_SR_GUI   \\\n0                           1                         0   \n1                           1                         0   \n2                           0                         0   \n3                           0                         0   \n4                           0                         0   \n..                        ...                       ...   \n273                         1                         0   \n274                         0                         0   \n275                         0                         0   \n276                         0                         0   \n277                         0                         0   \n\n     Kategorie ID_ZSD_SR_HANA   Kategorie ID_ZSD_SR_HCR   \\\n0                            0                         0   \n1                            0                         0   \n2                            0                         0   \n3                            0                         0   \n4                            0                         0   \n..                         ...                       ...   \n273                          0                         0   \n274                          0                         0   \n275                          0                         0   \n276                          0                         0   \n277                          0                         0   \n\n     Kategorie ID_ZSD_SR_KTV   ...  Unterkategorie ID_ZSD_SR_GUI   \\\n0                           0  ...                              0   \n1                           0  ...                              0   \n2                           0  ...                              0   \n3                           0  ...                              0   \n4                           0  ...                              0   \n..                        ...  ...                            ...   \n273                         0  ...                              0   \n274                         0  ...                              0   \n275                         0  ...                              0   \n276                         0  ...                              0   \n277                         0  ...                              0   \n\n     Unterkategorie ID_ZSD_SR_HANA   Unterkategorie ID_ZSD_SR_HCR   \\\n0                                 0                              0   \n1                                 0                              0   \n2                                 0                              0   \n3                                 0                              0   \n4                                 0                              0   \n..                              ...                            ...   \n273                               0                              0   \n274                               0                              0   \n275                               0                              0   \n276                               0                              0   \n277                               0                              0   \n\n     Unterkategorie ID_ZSD_SR_KTV   Unterkategorie ID_ZSD_SR_S4HANA   \\\n0                                0                                 0   \n1                                0                                 0   \n2                                0                                 0   \n3                                0                                 0   \n4                                0                                 1   \n..                             ...                               ...   \n273                              0                                 0   \n274                              0                                 1   \n275                              0                                 1   \n276                              0                                 1   \n277                              0                                 1   \n\n     Unterkategorie ID_ZSD_SR_S4SCH   Unterkategorie ID_ZSD_SR_SIM   \\\n0                                  0                              0   \n1                                  0                              0   \n2                                  0                              1   \n3                                  0                              1   \n4                                  0                              0   \n..                               ...                            ...   \n273                                0                              0   \n274                                0                              0   \n275                                0                              0   \n276                                0                              0   \n277                                0                              0   \n\n     Unterkategorie ID_ZSD_SR_TERP   classification_ first  \\\n0                                 0                      0   \n1                                 0                      0   \n2                                 0                      0   \n3                                 0                      0   \n4                                 0                      1   \n..                              ...                    ...   \n273                               0                      0   \n274                               0                      0   \n275                               0                      0   \n276                               0                      0   \n277                               0                      0   \n\n     classification_ second  \n0                         1  \n1                         1  \n2                         1  \n3                         1  \n4                         0  \n..                      ...  \n273                       1  \n274                       1  \n275                       1  \n276                       1  \n277                       1  \n\n[278 rows x 29 columns]",
      "text/html": "<div>\n<style scoped>\n    .dataframe tbody tr th:only-of-type {\n        vertical-align: middle;\n    }\n\n    .dataframe tbody tr th {\n        vertical-align: top;\n    }\n\n    .dataframe thead th {\n        text-align: right;\n    }\n</style>\n<table border=\"1\" class=\"dataframe\">\n  <thead>\n    <tr style=\"text-align: right;\">\n      <th></th>\n      <th>completion</th>\n      <th>Kategorie ID_ZSD_SR_AA</th>\n      <th>Kategorie ID_ZSD_SR_BW</th>\n      <th>Kategorie ID_ZSD_SR_BYD</th>\n      <th>Kategorie ID_ZSD_SR_ES</th>\n      <th>Kategorie ID_ZSD_SR_GBI</th>\n      <th>Kategorie ID_ZSD_SR_GUI</th>\n      <th>Kategorie ID_ZSD_SR_HANA</th>\n      <th>Kategorie ID_ZSD_SR_HCR</th>\n      <th>Kategorie ID_ZSD_SR_KTV</th>\n      <th>...</th>\n      <th>Unterkategorie ID_ZSD_SR_GUI</th>\n      <th>Unterkategorie ID_ZSD_SR_HANA</th>\n      <th>Unterkategorie ID_ZSD_SR_HCR</th>\n      <th>Unterkategorie ID_ZSD_SR_KTV</th>\n      <th>Unterkategorie ID_ZSD_SR_S4HANA</th>\n      <th>Unterkategorie ID_ZSD_SR_S4SCH</th>\n      <th>Unterkategorie ID_ZSD_SR_SIM</th>\n      <th>Unterkategorie ID_ZSD_SR_TERP</th>\n      <th>classification_ first</th>\n      <th>classification_ second</th>\n    </tr>\n  </thead>\n  <tbody>\n    <tr>\n      <th>0</th>\n      <td>first</td>\n      <td>0</td>\n      <td>0</td>\n      <td>0</td>\n      <td>0</td>\n      <td>1</td>\n      <td>0</td>\n      <td>0</td>\n      <td>0</td>\n      <td>0</td>\n      <td>...</td>\n      <td>0</td>\n      <td>0</td>\n      <td>0</td>\n      <td>0</td>\n      <td>0</td>\n      <td>0</td>\n      <td>0</td>\n      <td>0</td>\n      <td>0</td>\n      <td>1</td>\n    </tr>\n    <tr>\n      <th>1</th>\n      <td>first</td>\n      <td>0</td>\n      <td>0</td>\n      <td>0</td>\n      <td>0</td>\n      <td>1</td>\n      <td>0</td>\n      <td>0</td>\n      <td>0</td>\n      <td>0</td>\n      <td>...</td>\n      <td>0</td>\n      <td>0</td>\n      <td>0</td>\n      <td>0</td>\n      <td>0</td>\n      <td>0</td>\n      <td>0</td>\n      <td>0</td>\n      <td>0</td>\n      <td>1</td>\n    </tr>\n    <tr>\n      <th>2</th>\n      <td>second</td>\n      <td>0</td>\n      <td>0</td>\n      <td>0</td>\n      <td>0</td>\n      <td>0</td>\n      <td>0</td>\n      <td>0</td>\n      <td>0</td>\n      <td>0</td>\n      <td>...</td>\n      <td>0</td>\n      <td>0</td>\n      <td>0</td>\n      <td>0</td>\n      <td>0</td>\n      <td>0</td>\n      <td>1</td>\n      <td>0</td>\n      <td>0</td>\n      <td>1</td>\n    </tr>\n    <tr>\n      <th>3</th>\n      <td>second</td>\n      <td>0</td>\n      <td>0</td>\n      <td>0</td>\n      <td>0</td>\n      <td>0</td>\n      <td>0</td>\n      <td>0</td>\n      <td>0</td>\n      <td>0</td>\n      <td>...</td>\n      <td>0</td>\n      <td>0</td>\n      <td>0</td>\n      <td>0</td>\n      <td>0</td>\n      <td>0</td>\n      <td>1</td>\n      <td>0</td>\n      <td>0</td>\n      <td>1</td>\n    </tr>\n    <tr>\n      <th>4</th>\n      <td>first</td>\n      <td>0</td>\n      <td>0</td>\n      <td>0</td>\n      <td>0</td>\n      <td>0</td>\n      <td>0</td>\n      <td>0</td>\n      <td>0</td>\n      <td>0</td>\n      <td>...</td>\n      <td>0</td>\n      <td>0</td>\n      <td>0</td>\n      <td>0</td>\n      <td>1</td>\n      <td>0</td>\n      <td>0</td>\n      <td>0</td>\n      <td>1</td>\n      <td>0</td>\n    </tr>\n    <tr>\n      <th>...</th>\n      <td>...</td>\n      <td>...</td>\n      <td>...</td>\n      <td>...</td>\n      <td>...</td>\n      <td>...</td>\n      <td>...</td>\n      <td>...</td>\n      <td>...</td>\n      <td>...</td>\n      <td>...</td>\n      <td>...</td>\n      <td>...</td>\n      <td>...</td>\n      <td>...</td>\n      <td>...</td>\n      <td>...</td>\n      <td>...</td>\n      <td>...</td>\n      <td>...</td>\n      <td>...</td>\n    </tr>\n    <tr>\n      <th>273</th>\n      <td>second</td>\n      <td>0</td>\n      <td>0</td>\n      <td>0</td>\n      <td>0</td>\n      <td>1</td>\n      <td>0</td>\n      <td>0</td>\n      <td>0</td>\n      <td>0</td>\n      <td>...</td>\n      <td>0</td>\n      <td>0</td>\n      <td>0</td>\n      <td>0</td>\n      <td>0</td>\n      <td>0</td>\n      <td>0</td>\n      <td>0</td>\n      <td>0</td>\n      <td>1</td>\n    </tr>\n    <tr>\n      <th>274</th>\n      <td>second</td>\n      <td>0</td>\n      <td>0</td>\n      <td>0</td>\n      <td>0</td>\n      <td>0</td>\n      <td>0</td>\n      <td>0</td>\n      <td>0</td>\n      <td>0</td>\n      <td>...</td>\n      <td>0</td>\n      <td>0</td>\n      <td>0</td>\n      <td>0</td>\n      <td>1</td>\n      <td>0</td>\n      <td>0</td>\n      <td>0</td>\n      <td>0</td>\n      <td>1</td>\n    </tr>\n    <tr>\n      <th>275</th>\n      <td>second</td>\n      <td>0</td>\n      <td>0</td>\n      <td>0</td>\n      <td>0</td>\n      <td>0</td>\n      <td>0</td>\n      <td>0</td>\n      <td>0</td>\n      <td>0</td>\n      <td>...</td>\n      <td>0</td>\n      <td>0</td>\n      <td>0</td>\n      <td>0</td>\n      <td>1</td>\n      <td>0</td>\n      <td>0</td>\n      <td>0</td>\n      <td>0</td>\n      <td>1</td>\n    </tr>\n    <tr>\n      <th>276</th>\n      <td>second</td>\n      <td>0</td>\n      <td>0</td>\n      <td>0</td>\n      <td>0</td>\n      <td>0</td>\n      <td>0</td>\n      <td>0</td>\n      <td>0</td>\n      <td>0</td>\n      <td>...</td>\n      <td>0</td>\n      <td>0</td>\n      <td>0</td>\n      <td>0</td>\n      <td>1</td>\n      <td>0</td>\n      <td>0</td>\n      <td>0</td>\n      <td>0</td>\n      <td>1</td>\n    </tr>\n    <tr>\n      <th>277</th>\n      <td>second</td>\n      <td>0</td>\n      <td>0</td>\n      <td>0</td>\n      <td>0</td>\n      <td>0</td>\n      <td>0</td>\n      <td>0</td>\n      <td>0</td>\n      <td>0</td>\n      <td>...</td>\n      <td>0</td>\n      <td>0</td>\n      <td>0</td>\n      <td>0</td>\n      <td>1</td>\n      <td>0</td>\n      <td>0</td>\n      <td>0</td>\n      <td>0</td>\n      <td>1</td>\n    </tr>\n  </tbody>\n</table>\n<p>278 rows × 29 columns</p>\n</div>"
     },
     "execution_count": 30,
     "metadata": {},
     "output_type": "execute_result"
    }
   ],
   "source": [
    "# one hot encoding\n",
    "model_input_oh = pd.get_dummies(model_input, columns=[\"Kategorie ID\", \"Unterkategorie ID\", \"classification\"])\n",
    "model_input_oh"
   ],
   "metadata": {
    "collapsed": false
   }
  },
  {
   "cell_type": "code",
   "execution_count": 31,
   "outputs": [
    {
     "data": {
      "text/plain": "   completion  Kategorie ID_ZSD_SR_AA   Kategorie ID_ZSD_SR_BW   \\\n0           0                        0                        0   \n1           0                        0                        0   \n2           1                        0                        0   \n3           1                        0                        0   \n4           0                        0                        0   \n\n   Kategorie ID_ZSD_SR_BYD   Kategorie ID_ZSD_SR_ES   \\\n0                         0                        0   \n1                         0                        0   \n2                         0                        0   \n3                         0                        0   \n4                         0                        0   \n\n   Kategorie ID_ZSD_SR_GBI   Kategorie ID_ZSD_SR_GUI   \\\n0                         1                         0   \n1                         1                         0   \n2                         0                         0   \n3                         0                         0   \n4                         0                         0   \n\n   Kategorie ID_ZSD_SR_HANA   Kategorie ID_ZSD_SR_HCR   \\\n0                          0                         0   \n1                          0                         0   \n2                          0                         0   \n3                          0                         0   \n4                          0                         0   \n\n   Kategorie ID_ZSD_SR_KTV   ...  Unterkategorie ID_ZSD_SR_GUI   \\\n0                         0  ...                              0   \n1                         0  ...                              0   \n2                         0  ...                              0   \n3                         0  ...                              0   \n4                         0  ...                              0   \n\n   Unterkategorie ID_ZSD_SR_HANA   Unterkategorie ID_ZSD_SR_HCR   \\\n0                               0                              0   \n1                               0                              0   \n2                               0                              0   \n3                               0                              0   \n4                               0                              0   \n\n   Unterkategorie ID_ZSD_SR_KTV   Unterkategorie ID_ZSD_SR_S4HANA   \\\n0                              0                                 0   \n1                              0                                 0   \n2                              0                                 0   \n3                              0                                 0   \n4                              0                                 1   \n\n   Unterkategorie ID_ZSD_SR_S4SCH   Unterkategorie ID_ZSD_SR_SIM   \\\n0                                0                              0   \n1                                0                              0   \n2                                0                              1   \n3                                0                              1   \n4                                0                              0   \n\n   Unterkategorie ID_ZSD_SR_TERP   classification_ first  \\\n0                               0                      0   \n1                               0                      0   \n2                               0                      0   \n3                               0                      0   \n4                               0                      1   \n\n   classification_ second  \n0                       1  \n1                       1  \n2                       1  \n3                       1  \n4                       0  \n\n[5 rows x 29 columns]",
      "text/html": "<div>\n<style scoped>\n    .dataframe tbody tr th:only-of-type {\n        vertical-align: middle;\n    }\n\n    .dataframe tbody tr th {\n        vertical-align: top;\n    }\n\n    .dataframe thead th {\n        text-align: right;\n    }\n</style>\n<table border=\"1\" class=\"dataframe\">\n  <thead>\n    <tr style=\"text-align: right;\">\n      <th></th>\n      <th>completion</th>\n      <th>Kategorie ID_ZSD_SR_AA</th>\n      <th>Kategorie ID_ZSD_SR_BW</th>\n      <th>Kategorie ID_ZSD_SR_BYD</th>\n      <th>Kategorie ID_ZSD_SR_ES</th>\n      <th>Kategorie ID_ZSD_SR_GBI</th>\n      <th>Kategorie ID_ZSD_SR_GUI</th>\n      <th>Kategorie ID_ZSD_SR_HANA</th>\n      <th>Kategorie ID_ZSD_SR_HCR</th>\n      <th>Kategorie ID_ZSD_SR_KTV</th>\n      <th>...</th>\n      <th>Unterkategorie ID_ZSD_SR_GUI</th>\n      <th>Unterkategorie ID_ZSD_SR_HANA</th>\n      <th>Unterkategorie ID_ZSD_SR_HCR</th>\n      <th>Unterkategorie ID_ZSD_SR_KTV</th>\n      <th>Unterkategorie ID_ZSD_SR_S4HANA</th>\n      <th>Unterkategorie ID_ZSD_SR_S4SCH</th>\n      <th>Unterkategorie ID_ZSD_SR_SIM</th>\n      <th>Unterkategorie ID_ZSD_SR_TERP</th>\n      <th>classification_ first</th>\n      <th>classification_ second</th>\n    </tr>\n  </thead>\n  <tbody>\n    <tr>\n      <th>0</th>\n      <td>0</td>\n      <td>0</td>\n      <td>0</td>\n      <td>0</td>\n      <td>0</td>\n      <td>1</td>\n      <td>0</td>\n      <td>0</td>\n      <td>0</td>\n      <td>0</td>\n      <td>...</td>\n      <td>0</td>\n      <td>0</td>\n      <td>0</td>\n      <td>0</td>\n      <td>0</td>\n      <td>0</td>\n      <td>0</td>\n      <td>0</td>\n      <td>0</td>\n      <td>1</td>\n    </tr>\n    <tr>\n      <th>1</th>\n      <td>0</td>\n      <td>0</td>\n      <td>0</td>\n      <td>0</td>\n      <td>0</td>\n      <td>1</td>\n      <td>0</td>\n      <td>0</td>\n      <td>0</td>\n      <td>0</td>\n      <td>...</td>\n      <td>0</td>\n      <td>0</td>\n      <td>0</td>\n      <td>0</td>\n      <td>0</td>\n      <td>0</td>\n      <td>0</td>\n      <td>0</td>\n      <td>0</td>\n      <td>1</td>\n    </tr>\n    <tr>\n      <th>2</th>\n      <td>1</td>\n      <td>0</td>\n      <td>0</td>\n      <td>0</td>\n      <td>0</td>\n      <td>0</td>\n      <td>0</td>\n      <td>0</td>\n      <td>0</td>\n      <td>0</td>\n      <td>...</td>\n      <td>0</td>\n      <td>0</td>\n      <td>0</td>\n      <td>0</td>\n      <td>0</td>\n      <td>0</td>\n      <td>1</td>\n      <td>0</td>\n      <td>0</td>\n      <td>1</td>\n    </tr>\n    <tr>\n      <th>3</th>\n      <td>1</td>\n      <td>0</td>\n      <td>0</td>\n      <td>0</td>\n      <td>0</td>\n      <td>0</td>\n      <td>0</td>\n      <td>0</td>\n      <td>0</td>\n      <td>0</td>\n      <td>...</td>\n      <td>0</td>\n      <td>0</td>\n      <td>0</td>\n      <td>0</td>\n      <td>0</td>\n      <td>0</td>\n      <td>1</td>\n      <td>0</td>\n      <td>0</td>\n      <td>1</td>\n    </tr>\n    <tr>\n      <th>4</th>\n      <td>0</td>\n      <td>0</td>\n      <td>0</td>\n      <td>0</td>\n      <td>0</td>\n      <td>0</td>\n      <td>0</td>\n      <td>0</td>\n      <td>0</td>\n      <td>0</td>\n      <td>...</td>\n      <td>0</td>\n      <td>0</td>\n      <td>0</td>\n      <td>0</td>\n      <td>1</td>\n      <td>0</td>\n      <td>0</td>\n      <td>0</td>\n      <td>1</td>\n      <td>0</td>\n    </tr>\n  </tbody>\n</table>\n<p>5 rows × 29 columns</p>\n</div>"
     },
     "execution_count": 31,
     "metadata": {},
     "output_type": "execute_result"
    }
   ],
   "source": [
    "# completion to numeric\n",
    "model_input_oh[\"completion\"] = model_input_oh[\"completion\"].cat.codes\n",
    "model_input_oh.head()"
   ],
   "metadata": {
    "collapsed": false
   }
  },
  {
   "cell_type": "code",
   "execution_count": 37,
   "outputs": [],
   "source": [
    "import xgboost as xgb\n",
    "from sklearn.model_selection import train_test_split\n",
    "from sklearn.metrics import accuracy_score\n",
    "from sklearn.model_selection import GridSearchCV\n",
    "from sklearn.ensemble import RandomForestClassifier\n",
    "param = {'max_depth': 2, 'eta': 1, 'objective': 'binary:logistic'}\n",
    "param_grid = {\n",
    "    'n_estimators': [100, 200, 300],\n",
    "    'max_depth': [None, 1,2,3,4,5],\n",
    "    'min_samples_split': [2, 5, 10],\n",
    "    'min_samples_leaf': [1, 2, 4]\n",
    "}"
   ],
   "metadata": {
    "collapsed": false
   }
  },
  {
   "cell_type": "code",
   "execution_count": 38,
   "outputs": [],
   "source": [
    "# split data into train and test\n",
    "train, test = train_test_split(model_input_oh, test_size = 0.2)\n",
    "X_train = train.drop([\"completion\"], axis=1)\n",
    "y_train = train[\"completion\"]\n",
    "X_test = test.drop([\"completion\"], axis=1)\n",
    "y_test = test[\"completion\"]\n",
    "dtrain_reg = xgb.DMatrix(X_train, y_train, enable_categorical=True)\n",
    "dtest_reg = xgb.DMatrix(X_test, y_test, enable_categorical=True)"
   ],
   "metadata": {
    "collapsed": false
   }
  },
  {
   "cell_type": "code",
   "execution_count": 39,
   "outputs": [],
   "source": [
    "rf = RandomForestClassifier(n_estimators=200, max_depth=2)\n",
    "grid_search = GridSearchCV(estimator=rf, param_grid=param_grid, cv=5)"
   ],
   "metadata": {
    "collapsed": false
   }
  },
  {
   "cell_type": "code",
   "execution_count": 40,
   "outputs": [
    {
     "data": {
      "text/plain": "GridSearchCV(cv=5,\n             estimator=RandomForestClassifier(max_depth=2, n_estimators=200),\n             param_grid={'max_depth': [None, 1, 2, 3, 4, 5],\n                         'min_samples_leaf': [1, 2, 4],\n                         'min_samples_split': [2, 5, 10],\n                         'n_estimators': [100, 200, 300]})",
      "text/html": "<style>#sk-container-id-3 {color: black;background-color: white;}#sk-container-id-3 pre{padding: 0;}#sk-container-id-3 div.sk-toggleable {background-color: white;}#sk-container-id-3 label.sk-toggleable__label {cursor: pointer;display: block;width: 100%;margin-bottom: 0;padding: 0.3em;box-sizing: border-box;text-align: center;}#sk-container-id-3 label.sk-toggleable__label-arrow:before {content: \"▸\";float: left;margin-right: 0.25em;color: #696969;}#sk-container-id-3 label.sk-toggleable__label-arrow:hover:before {color: black;}#sk-container-id-3 div.sk-estimator:hover label.sk-toggleable__label-arrow:before {color: black;}#sk-container-id-3 div.sk-toggleable__content {max-height: 0;max-width: 0;overflow: hidden;text-align: left;background-color: #f0f8ff;}#sk-container-id-3 div.sk-toggleable__content pre {margin: 0.2em;color: black;border-radius: 0.25em;background-color: #f0f8ff;}#sk-container-id-3 input.sk-toggleable__control:checked~div.sk-toggleable__content {max-height: 200px;max-width: 100%;overflow: auto;}#sk-container-id-3 input.sk-toggleable__control:checked~label.sk-toggleable__label-arrow:before {content: \"▾\";}#sk-container-id-3 div.sk-estimator input.sk-toggleable__control:checked~label.sk-toggleable__label {background-color: #d4ebff;}#sk-container-id-3 div.sk-label input.sk-toggleable__control:checked~label.sk-toggleable__label {background-color: #d4ebff;}#sk-container-id-3 input.sk-hidden--visually {border: 0;clip: rect(1px 1px 1px 1px);clip: rect(1px, 1px, 1px, 1px);height: 1px;margin: -1px;overflow: hidden;padding: 0;position: absolute;width: 1px;}#sk-container-id-3 div.sk-estimator {font-family: monospace;background-color: #f0f8ff;border: 1px dotted black;border-radius: 0.25em;box-sizing: border-box;margin-bottom: 0.5em;}#sk-container-id-3 div.sk-estimator:hover {background-color: #d4ebff;}#sk-container-id-3 div.sk-parallel-item::after {content: \"\";width: 100%;border-bottom: 1px solid gray;flex-grow: 1;}#sk-container-id-3 div.sk-label:hover label.sk-toggleable__label {background-color: #d4ebff;}#sk-container-id-3 div.sk-serial::before {content: \"\";position: absolute;border-left: 1px solid gray;box-sizing: border-box;top: 0;bottom: 0;left: 50%;z-index: 0;}#sk-container-id-3 div.sk-serial {display: flex;flex-direction: column;align-items: center;background-color: white;padding-right: 0.2em;padding-left: 0.2em;position: relative;}#sk-container-id-3 div.sk-item {position: relative;z-index: 1;}#sk-container-id-3 div.sk-parallel {display: flex;align-items: stretch;justify-content: center;background-color: white;position: relative;}#sk-container-id-3 div.sk-item::before, #sk-container-id-3 div.sk-parallel-item::before {content: \"\";position: absolute;border-left: 1px solid gray;box-sizing: border-box;top: 0;bottom: 0;left: 50%;z-index: -1;}#sk-container-id-3 div.sk-parallel-item {display: flex;flex-direction: column;z-index: 1;position: relative;background-color: white;}#sk-container-id-3 div.sk-parallel-item:first-child::after {align-self: flex-end;width: 50%;}#sk-container-id-3 div.sk-parallel-item:last-child::after {align-self: flex-start;width: 50%;}#sk-container-id-3 div.sk-parallel-item:only-child::after {width: 0;}#sk-container-id-3 div.sk-dashed-wrapped {border: 1px dashed gray;margin: 0 0.4em 0.5em 0.4em;box-sizing: border-box;padding-bottom: 0.4em;background-color: white;}#sk-container-id-3 div.sk-label label {font-family: monospace;font-weight: bold;display: inline-block;line-height: 1.2em;}#sk-container-id-3 div.sk-label-container {text-align: center;}#sk-container-id-3 div.sk-container {/* jupyter's `normalize.less` sets `[hidden] { display: none; }` but bootstrap.min.css set `[hidden] { display: none !important; }` so we also need the `!important` here to be able to override the default hidden behavior on the sphinx rendered scikit-learn.org. See: https://github.com/scikit-learn/scikit-learn/issues/21755 */display: inline-block !important;position: relative;}#sk-container-id-3 div.sk-text-repr-fallback {display: none;}</style><div id=\"sk-container-id-3\" class=\"sk-top-container\"><div class=\"sk-text-repr-fallback\"><pre>GridSearchCV(cv=5,\n             estimator=RandomForestClassifier(max_depth=2, n_estimators=200),\n             param_grid={&#x27;max_depth&#x27;: [None, 1, 2, 3, 4, 5],\n                         &#x27;min_samples_leaf&#x27;: [1, 2, 4],\n                         &#x27;min_samples_split&#x27;: [2, 5, 10],\n                         &#x27;n_estimators&#x27;: [100, 200, 300]})</pre><b>In a Jupyter environment, please rerun this cell to show the HTML representation or trust the notebook. <br />On GitHub, the HTML representation is unable to render, please try loading this page with nbviewer.org.</b></div><div class=\"sk-container\" hidden><div class=\"sk-item sk-dashed-wrapped\"><div class=\"sk-label-container\"><div class=\"sk-label sk-toggleable\"><input class=\"sk-toggleable__control sk-hidden--visually\" id=\"sk-estimator-id-7\" type=\"checkbox\" ><label for=\"sk-estimator-id-7\" class=\"sk-toggleable__label sk-toggleable__label-arrow\">GridSearchCV</label><div class=\"sk-toggleable__content\"><pre>GridSearchCV(cv=5,\n             estimator=RandomForestClassifier(max_depth=2, n_estimators=200),\n             param_grid={&#x27;max_depth&#x27;: [None, 1, 2, 3, 4, 5],\n                         &#x27;min_samples_leaf&#x27;: [1, 2, 4],\n                         &#x27;min_samples_split&#x27;: [2, 5, 10],\n                         &#x27;n_estimators&#x27;: [100, 200, 300]})</pre></div></div></div><div class=\"sk-parallel\"><div class=\"sk-parallel-item\"><div class=\"sk-item\"><div class=\"sk-label-container\"><div class=\"sk-label sk-toggleable\"><input class=\"sk-toggleable__control sk-hidden--visually\" id=\"sk-estimator-id-8\" type=\"checkbox\" ><label for=\"sk-estimator-id-8\" class=\"sk-toggleable__label sk-toggleable__label-arrow\">estimator: RandomForestClassifier</label><div class=\"sk-toggleable__content\"><pre>RandomForestClassifier(max_depth=2, n_estimators=200)</pre></div></div></div><div class=\"sk-serial\"><div class=\"sk-item\"><div class=\"sk-estimator sk-toggleable\"><input class=\"sk-toggleable__control sk-hidden--visually\" id=\"sk-estimator-id-9\" type=\"checkbox\" ><label for=\"sk-estimator-id-9\" class=\"sk-toggleable__label sk-toggleable__label-arrow\">RandomForestClassifier</label><div class=\"sk-toggleable__content\"><pre>RandomForestClassifier(max_depth=2, n_estimators=200)</pre></div></div></div></div></div></div></div></div></div></div>"
     },
     "execution_count": 40,
     "metadata": {},
     "output_type": "execute_result"
    }
   ],
   "source": [
    "grid_search.fit(X_train, y_train)"
   ],
   "metadata": {
    "collapsed": false
   }
  },
  {
   "cell_type": "code",
   "execution_count": 41,
   "outputs": [
    {
     "name": "stdout",
     "output_type": "stream",
     "text": [
      "{'max_depth': None, 'min_samples_leaf': 2, 'min_samples_split': 10, 'n_estimators': 200}\n",
      "0.9097979797979798\n"
     ]
    }
   ],
   "source": [
    "best_params = grid_search.best_params_\n",
    "print(best_params)\n",
    "best_score = grid_search.best_score_\n",
    "print(best_score)"
   ],
   "metadata": {
    "collapsed": false
   }
  },
  {
   "cell_type": "code",
   "execution_count": 19,
   "outputs": [],
   "source": [
    "y_pred = rf.predict(X_test)"
   ],
   "metadata": {
    "collapsed": false
   }
  },
  {
   "cell_type": "code",
   "execution_count": 42,
   "outputs": [
    {
     "ename": "NameError",
     "evalue": "name 'y_pred' is not defined",
     "output_type": "error",
     "traceback": [
      "\u001B[0;31m---------------------------------------------------------------------------\u001B[0m",
      "\u001B[0;31mNameError\u001B[0m                                 Traceback (most recent call last)",
      "Cell \u001B[0;32mIn[42], line 1\u001B[0m\n\u001B[0;32m----> 1\u001B[0m accuracy_score(y_test, \u001B[43my_pred\u001B[49m)\n",
      "\u001B[0;31mNameError\u001B[0m: name 'y_pred' is not defined"
     ]
    }
   ],
   "source": [
    "accuracy_score(y_test, y_pred)"
   ],
   "metadata": {
    "collapsed": false
   }
  },
  {
   "cell_type": "code",
   "execution_count": 47,
   "outputs": [
    {
     "name": "stdout",
     "output_type": "stream",
     "text": [
      "{'colsample_bytree': 0.8, 'learning_rate': 0.1, 'max_depth': 1, 'n_estimators': 200, 'subsample': 1.0}\n",
      "0.9097979797979798\n"
     ]
    }
   ],
   "source": [
    "# Create the XGBoost classifier\n",
    "xgb_clf = xgb.XGBClassifier()\n",
    "\n",
    "# Define the hyperparameter grid to search\n",
    "param_grid = {\n",
    "    'max_depth': [1,2,3,4],\n",
    "    'learning_rate': [0.1, 0.01, 0.001],\n",
    "    'n_estimators': [100, 200, 300],\n",
    "    'subsample': [0.8, 1.0],\n",
    "    'colsample_bytree': [0.8, 1.0]\n",
    "}\n",
    "\n",
    "# Create the GridSearchCV object\n",
    "grid_search = GridSearchCV(estimator=xgb_clf, param_grid=param_grid, cv=5)\n",
    "\n",
    "# Perform grid search on the training data\n",
    "grid_search.fit(X_train, y_train)\n",
    "\n",
    "# Get the best parameters and best score\n",
    "best_params = grid_search.best_params_\n",
    "best_score = grid_search.best_score_\n",
    "print(best_params)\n",
    "print(best_score)\n",
    "\n",
    "best_model = grid_search.best_estimator_\n",
    "y_pred = best_model.predict(X_test)"
   ],
   "metadata": {
    "collapsed": false
   }
  },
  {
   "cell_type": "code",
   "execution_count": 51,
   "outputs": [
    {
     "data": {
      "text/plain": "     Kategorie ID_ZSD_SR_AA   Kategorie ID_ZSD_SR_BW   \\\n1                          0                        0   \n239                        0                        0   \n22                         0                        0   \n79                         0                        0   \n206                        0                        0   \n23                         0                        0   \n45                         1                        0   \n201                        1                        0   \n205                        0                        0   \n\n     Kategorie ID_ZSD_SR_BYD   Kategorie ID_ZSD_SR_ES   \\\n1                           0                        0   \n239                         0                        0   \n22                          0                        0   \n79                          0                        0   \n206                         0                        0   \n23                          0                        0   \n45                          0                        0   \n201                         0                        0   \n205                         0                        0   \n\n     Kategorie ID_ZSD_SR_GBI   Kategorie ID_ZSD_SR_GUI   \\\n1                           1                         0   \n239                         0                         0   \n22                          0                         1   \n79                          0                         0   \n206                         0                         0   \n23                          0                         1   \n45                          0                         0   \n201                         0                         0   \n205                         0                         0   \n\n     Kategorie ID_ZSD_SR_HANA   Kategorie ID_ZSD_SR_HCR   \\\n1                            0                         0   \n239                          0                         0   \n22                           0                         0   \n79                           0                         0   \n206                          0                         0   \n23                           0                         0   \n45                           0                         0   \n201                          0                         0   \n205                          0                         0   \n\n     Kategorie ID_ZSD_SR_KTV   Kategorie ID_ZSD_SR_S4HANA   ...  \\\n1                           0                            0  ...   \n239                         0                            1  ...   \n22                          0                            0  ...   \n79                          0                            1  ...   \n206                         0                            0  ...   \n23                          0                            0  ...   \n45                          0                            0  ...   \n201                         0                            0  ...   \n205                         0                            0  ...   \n\n            Angelegt Am_y  Angelegt Von_y         Geändert Am_y  \\\n1    2022.01.03\\t15:19:55       H2851US4   2022.02.03\\t18:00:22   \n239  2022.10.04\\t14:06:26       H2851CD1   2022.11.13\\t18:01:03   \n22   2022.02.02\\t14:53:38       H2681VL1   2022.02.14\\t10:50:19   \n79   2022.04.05\\t18:12:02       H2681MP1   2022.04.26\\t18:00:20   \n206  2022.09.12\\t13:25:04       H2447SK1   2022.10.10\\t18:00:07   \n23   2022.02.02\\t14:53:38       H2681VL1   2022.02.14\\t10:50:19   \n45   2022.02.23\\t15:05:09       H2851US4   2022.04.01\\t11:39:43   \n201  2022.09.07\\t09:41:24       H2371TN1   2022.09.27\\t18:00:12   \n205  2022.09.12\\t04:08:42     U2AU002SB1   2022.10.03\\t18:00:15   \n\n     Geändert Von_y                                     Auftraggeber_y  \\\n1            BORYS                         H2934MH1 Marion Hintereder    \n239     MASTER-ADM     U2GB048 Sheffield University Management School    \n22        H2681VL1    H2681 Duale Hochschule Baden-Württemberg - DHBW    \n79           BORYS    H2681 Duale Hochschule Baden-Württemberg - DHBW    \n206          BORYS   H2447 Konrad-Klepping-Berufskolleg der Stadt D...   \n23        H2681VL1    H2681 Duale Hochschule Baden-Württemberg - DHBW    \n45      MASTER-ADM                                   H2481 FH Münster    \n201          BORYS           H2371 Georg-August-Universität Göttingen    \n205          BORYS   U2AU002 ACC Melbourne Victoria University Busi...   \n\n                         Meldender_y               Support Team_y  \\\n1         H2851US4 Herr UCC Support   0000000047 APP Applikation    \n239      U2GB048SL1 Frau Shuyang Li   0000000047 APP Applikation    \n22   H2681VL1 Herr Volker Lanninger   0000000047 APP Applikation    \n79     H2681MP1 Herr Mathias Phlipp         0000000046 BAS Basis    \n206     H2447SK1 Herr Stefan Koböke         0000000046 BAS Basis    \n23   H2681VL1 Herr Volker Lanninger   0000000047 APP Applikation    \n45     H2481JN1 Herr Jürgen Nonhoff   0000000047 APP Applikation    \n201    H2371TN1 Herr Tobias Nießner   0000000047 APP Applikation    \n205   U2AU002SB1 Herr Scott Bingley   0000000047 APP Applikation    \n\n                       Bearbeiter_y     Erste Nachricht_y  \\\n1         H2851US4 Herr UCC Support  2022.01.03\\t15:19:55   \n239       H2851US4 Herr UCC Support  2022.10.04\\t14:06:26   \n22        H2851US4 Herr UCC Support  2022.02.02\\t14:53:38   \n79                              NaN  2022.04.05\\t18:12:02   \n206                             NaN  2022.09.12\\t13:25:04   \n23        H2851US4 Herr UCC Support  2022.02.02\\t14:53:38   \n45   H2851BL1 Herr Borys Levkovskyi  2022.02.23\\t15:05:09   \n201       H2851US4 Herr UCC Support  2022.09.07\\t09:41:24   \n205       H2851US4 Herr UCC Support  2022.09.12\\t04:08:42   \n\n       Letzte Nachricht_y  \n1    2022.02.03\\t18:00:20  \n239  2022.11.13\\t18:01:03  \n22   2022.02.02\\t15:30:31  \n79   2022.04.26\\t18:00:20  \n206  2022.10.10\\t18:00:07  \n23   2022.02.02\\t15:30:31  \n45   2022.03.03\\t11:26:20  \n201  2022.09.27\\t18:00:12  \n205  2022.10.03\\t18:00:15  \n\n[9 rows x 77 columns]",
      "text/html": "<div>\n<style scoped>\n    .dataframe tbody tr th:only-of-type {\n        vertical-align: middle;\n    }\n\n    .dataframe tbody tr th {\n        vertical-align: top;\n    }\n\n    .dataframe thead th {\n        text-align: right;\n    }\n</style>\n<table border=\"1\" class=\"dataframe\">\n  <thead>\n    <tr style=\"text-align: right;\">\n      <th></th>\n      <th>Kategorie ID_ZSD_SR_AA</th>\n      <th>Kategorie ID_ZSD_SR_BW</th>\n      <th>Kategorie ID_ZSD_SR_BYD</th>\n      <th>Kategorie ID_ZSD_SR_ES</th>\n      <th>Kategorie ID_ZSD_SR_GBI</th>\n      <th>Kategorie ID_ZSD_SR_GUI</th>\n      <th>Kategorie ID_ZSD_SR_HANA</th>\n      <th>Kategorie ID_ZSD_SR_HCR</th>\n      <th>Kategorie ID_ZSD_SR_KTV</th>\n      <th>Kategorie ID_ZSD_SR_S4HANA</th>\n      <th>...</th>\n      <th>Angelegt Am_y</th>\n      <th>Angelegt Von_y</th>\n      <th>Geändert Am_y</th>\n      <th>Geändert Von_y</th>\n      <th>Auftraggeber_y</th>\n      <th>Meldender_y</th>\n      <th>Support Team_y</th>\n      <th>Bearbeiter_y</th>\n      <th>Erste Nachricht_y</th>\n      <th>Letzte Nachricht_y</th>\n    </tr>\n  </thead>\n  <tbody>\n    <tr>\n      <th>1</th>\n      <td>0</td>\n      <td>0</td>\n      <td>0</td>\n      <td>0</td>\n      <td>1</td>\n      <td>0</td>\n      <td>0</td>\n      <td>0</td>\n      <td>0</td>\n      <td>0</td>\n      <td>...</td>\n      <td>2022.01.03\\t15:19:55</td>\n      <td>H2851US4</td>\n      <td>2022.02.03\\t18:00:22</td>\n      <td>BORYS</td>\n      <td>H2934MH1 Marion Hintereder</td>\n      <td>H2851US4 Herr UCC Support</td>\n      <td>0000000047 APP Applikation</td>\n      <td>H2851US4 Herr UCC Support</td>\n      <td>2022.01.03\\t15:19:55</td>\n      <td>2022.02.03\\t18:00:20</td>\n    </tr>\n    <tr>\n      <th>239</th>\n      <td>0</td>\n      <td>0</td>\n      <td>0</td>\n      <td>0</td>\n      <td>0</td>\n      <td>0</td>\n      <td>0</td>\n      <td>0</td>\n      <td>0</td>\n      <td>1</td>\n      <td>...</td>\n      <td>2022.10.04\\t14:06:26</td>\n      <td>H2851CD1</td>\n      <td>2022.11.13\\t18:01:03</td>\n      <td>MASTER-ADM</td>\n      <td>U2GB048 Sheffield University Management School</td>\n      <td>U2GB048SL1 Frau Shuyang Li</td>\n      <td>0000000047 APP Applikation</td>\n      <td>H2851US4 Herr UCC Support</td>\n      <td>2022.10.04\\t14:06:26</td>\n      <td>2022.11.13\\t18:01:03</td>\n    </tr>\n    <tr>\n      <th>22</th>\n      <td>0</td>\n      <td>0</td>\n      <td>0</td>\n      <td>0</td>\n      <td>0</td>\n      <td>1</td>\n      <td>0</td>\n      <td>0</td>\n      <td>0</td>\n      <td>0</td>\n      <td>...</td>\n      <td>2022.02.02\\t14:53:38</td>\n      <td>H2681VL1</td>\n      <td>2022.02.14\\t10:50:19</td>\n      <td>H2681VL1</td>\n      <td>H2681 Duale Hochschule Baden-Württemberg - DHBW</td>\n      <td>H2681VL1 Herr Volker Lanninger</td>\n      <td>0000000047 APP Applikation</td>\n      <td>H2851US4 Herr UCC Support</td>\n      <td>2022.02.02\\t14:53:38</td>\n      <td>2022.02.02\\t15:30:31</td>\n    </tr>\n    <tr>\n      <th>79</th>\n      <td>0</td>\n      <td>0</td>\n      <td>0</td>\n      <td>0</td>\n      <td>0</td>\n      <td>0</td>\n      <td>0</td>\n      <td>0</td>\n      <td>0</td>\n      <td>1</td>\n      <td>...</td>\n      <td>2022.04.05\\t18:12:02</td>\n      <td>H2681MP1</td>\n      <td>2022.04.26\\t18:00:20</td>\n      <td>BORYS</td>\n      <td>H2681 Duale Hochschule Baden-Württemberg - DHBW</td>\n      <td>H2681MP1 Herr Mathias Phlipp</td>\n      <td>0000000046 BAS Basis</td>\n      <td>NaN</td>\n      <td>2022.04.05\\t18:12:02</td>\n      <td>2022.04.26\\t18:00:20</td>\n    </tr>\n    <tr>\n      <th>206</th>\n      <td>0</td>\n      <td>0</td>\n      <td>0</td>\n      <td>0</td>\n      <td>0</td>\n      <td>0</td>\n      <td>0</td>\n      <td>0</td>\n      <td>0</td>\n      <td>0</td>\n      <td>...</td>\n      <td>2022.09.12\\t13:25:04</td>\n      <td>H2447SK1</td>\n      <td>2022.10.10\\t18:00:07</td>\n      <td>BORYS</td>\n      <td>H2447 Konrad-Klepping-Berufskolleg der Stadt D...</td>\n      <td>H2447SK1 Herr Stefan Koböke</td>\n      <td>0000000046 BAS Basis</td>\n      <td>NaN</td>\n      <td>2022.09.12\\t13:25:04</td>\n      <td>2022.10.10\\t18:00:07</td>\n    </tr>\n    <tr>\n      <th>23</th>\n      <td>0</td>\n      <td>0</td>\n      <td>0</td>\n      <td>0</td>\n      <td>0</td>\n      <td>1</td>\n      <td>0</td>\n      <td>0</td>\n      <td>0</td>\n      <td>0</td>\n      <td>...</td>\n      <td>2022.02.02\\t14:53:38</td>\n      <td>H2681VL1</td>\n      <td>2022.02.14\\t10:50:19</td>\n      <td>H2681VL1</td>\n      <td>H2681 Duale Hochschule Baden-Württemberg - DHBW</td>\n      <td>H2681VL1 Herr Volker Lanninger</td>\n      <td>0000000047 APP Applikation</td>\n      <td>H2851US4 Herr UCC Support</td>\n      <td>2022.02.02\\t14:53:38</td>\n      <td>2022.02.02\\t15:30:31</td>\n    </tr>\n    <tr>\n      <th>45</th>\n      <td>1</td>\n      <td>0</td>\n      <td>0</td>\n      <td>0</td>\n      <td>0</td>\n      <td>0</td>\n      <td>0</td>\n      <td>0</td>\n      <td>0</td>\n      <td>0</td>\n      <td>...</td>\n      <td>2022.02.23\\t15:05:09</td>\n      <td>H2851US4</td>\n      <td>2022.04.01\\t11:39:43</td>\n      <td>MASTER-ADM</td>\n      <td>H2481 FH Münster</td>\n      <td>H2481JN1 Herr Jürgen Nonhoff</td>\n      <td>0000000047 APP Applikation</td>\n      <td>H2851BL1 Herr Borys Levkovskyi</td>\n      <td>2022.02.23\\t15:05:09</td>\n      <td>2022.03.03\\t11:26:20</td>\n    </tr>\n    <tr>\n      <th>201</th>\n      <td>1</td>\n      <td>0</td>\n      <td>0</td>\n      <td>0</td>\n      <td>0</td>\n      <td>0</td>\n      <td>0</td>\n      <td>0</td>\n      <td>0</td>\n      <td>0</td>\n      <td>...</td>\n      <td>2022.09.07\\t09:41:24</td>\n      <td>H2371TN1</td>\n      <td>2022.09.27\\t18:00:12</td>\n      <td>BORYS</td>\n      <td>H2371 Georg-August-Universität Göttingen</td>\n      <td>H2371TN1 Herr Tobias Nießner</td>\n      <td>0000000047 APP Applikation</td>\n      <td>H2851US4 Herr UCC Support</td>\n      <td>2022.09.07\\t09:41:24</td>\n      <td>2022.09.27\\t18:00:12</td>\n    </tr>\n    <tr>\n      <th>205</th>\n      <td>0</td>\n      <td>0</td>\n      <td>0</td>\n      <td>0</td>\n      <td>0</td>\n      <td>0</td>\n      <td>0</td>\n      <td>0</td>\n      <td>0</td>\n      <td>0</td>\n      <td>...</td>\n      <td>2022.09.12\\t04:08:42</td>\n      <td>U2AU002SB1</td>\n      <td>2022.10.03\\t18:00:15</td>\n      <td>BORYS</td>\n      <td>U2AU002 ACC Melbourne Victoria University Busi...</td>\n      <td>U2AU002SB1 Herr Scott Bingley</td>\n      <td>0000000047 APP Applikation</td>\n      <td>H2851US4 Herr UCC Support</td>\n      <td>2022.09.12\\t04:08:42</td>\n      <td>2022.10.03\\t18:00:15</td>\n    </tr>\n  </tbody>\n</table>\n<p>9 rows × 77 columns</p>\n</div>"
     },
     "execution_count": 51,
     "metadata": {},
     "output_type": "execute_result"
    }
   ],
   "source": [
    "# filter misclassified tickets\n",
    "misclassified = X_test[y_pred != y_test]\n",
    "# merge on index with model_input\n",
    "misclassified = pd.merge(misclassified, merged_df, left_index=True, right_index=True)\n",
    "misclassified"
   ],
   "metadata": {
    "collapsed": false
   }
  },
  {
   "cell_type": "code",
   "execution_count": null,
   "outputs": [],
   "source": [],
   "metadata": {
    "collapsed": false
   }
  }
 ],
 "metadata": {
  "kernelspec": {
   "display_name": "Python 3",
   "language": "python",
   "name": "python3"
  },
  "language_info": {
   "codemirror_mode": {
    "name": "ipython",
    "version": 2
   },
   "file_extension": ".py",
   "mimetype": "text/x-python",
   "name": "python",
   "nbconvert_exporter": "python",
   "pygments_lexer": "ipython2",
   "version": "2.7.6"
  }
 },
 "nbformat": 4,
 "nbformat_minor": 0
}
