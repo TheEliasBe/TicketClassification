{
 "cells": [
  {
   "cell_type": "code",
   "execution_count": 16,
   "metadata": {
    "collapsed": true
   },
   "outputs": [],
   "source": [
    "import argostranslate.package\n",
    "import argostranslate.translate\n",
    "import langdetect\n",
    "\n",
    "from_code = \"de\"\n",
    "to_code = \"en\"\n",
    "\n",
    "# Download and install Argos Translate package\n",
    "argostranslate.package.update_package_index()\n",
    "available_packages = argostranslate.package.get_available_packages()\n",
    "package_to_install = next(\n",
    "    filter(\n",
    "        lambda x: x.from_code == from_code and x.to_code == to_code, available_packages\n",
    "    )\n",
    ")\n",
    "argostranslate.package.install_from_path(package_to_install.download())"
   ]
  },
  {
   "cell_type": "code",
   "execution_count": 6,
   "outputs": [
    {
     "name": "stdout",
     "output_type": "stream",
     "text": [
      "Hello world\n"
     ]
    }
   ],
   "source": [
    "translatedText = argostranslate.translate.translate(\"Hallo Welt\", from_code, to_code)\n",
    "print(translatedText)"
   ],
   "metadata": {
    "collapsed": false
   }
  },
  {
   "cell_type": "code",
   "execution_count": 7,
   "outputs": [],
   "source": [
    "import pandas as pd"
   ],
   "metadata": {
    "collapsed": false
   }
  },
  {
   "cell_type": "code",
   "execution_count": 8,
   "outputs": [],
   "source": [
    "df_2022 = pd.read_csv(\"../data/01_raw/2022/contents.csv\")"
   ],
   "metadata": {
    "collapsed": false
   }
  },
  {
   "cell_type": "code",
   "execution_count": 14,
   "outputs": [
    {
     "name": "stdout",
     "output_type": "stream",
     "text": [
      "Sehr geehrte Damen und Herren,\n",
      "hiermit bitte ich um die Bereitstellung eines SAP TS410-Mandanten für\n",
      "unseren SAP-Zertifizierungskurs vom 07.02.-21.02.2022.\n",
      "Die hierfür erforderliche Anmeldung habe ich heute ebenfalls an\n",
      "uccsupport@in.tum.de verschickt.\n",
      "\n",
      "Bitte lassen Sie mir die benötigten Informationen zukommen.\n",
      "Für Ihre Bemühungen vielen Dank.\n",
      "\n",
      "Mit freundlichen Grüßen\n",
      "T. Güthinger\n",
      "\n",
      "\n",
      "\n",
      "\n",
      "\n",
      "\n",
      "Lieber Herr Güthinger,\n",
      "\n",
      "meine Kollegin, Frau Fleischle, hat Ihnen ihre Anfrage per Email bereits\n",
      "bestätigt und weitere Informationen zukommen lassen (4. Januar). Daher\n",
      "werde ich dieses Ticket nun schließen.\n",
      "Falls Sie darüber hinausgehende Fragen haben, würde ich Sie bitten, ein\n",
      "neues Ticket zu eröffnen. Vielen Dank!\n",
      "\n",
      "Viele Grüße\n",
      "Benedikt Betzwieser\n",
      "\n",
      "SY-SYSID ............... I19\n",
      "SY-MANDT ............... 759\n",
      "\n",
      "Installation number .... 0020243093\n",
      "\n",
      "System type ............\n",
      "\n",
      "SAP version\n",
      "Release ................ 750\n",
      "Support Package Level .. 0020\n",
      "\n",
      "Database ............... IBM 11.01.0404\n",
      "\n",
      "Database Server\n",
      "Vendor ................. IBM\n",
      "Name ................... i19lp1\n",
      "IP address ............. 131.159.9.153\n",
      "Type ................... V\n",
      "CPU type ............... PowerPC_POWER8\n",
      "Operating system ....... IBM AIX 7.2 7.2\n",
      "\n",
      "Message Server\n",
      "Vendor ................. IBM\n",
      "Name ................... i19lp1\n",
      "IP address ............. 131.159.9.153\n",
      "Type ................... V\n",
      "CPU type ............... PowerPC_POWER8\n",
      "Operating system ....... IBM AIX 7.2 7.2\n",
      "\n",
      "Software Component/Release/Support Package Level\n",
      "EA-DFPS 618 0016\n",
      "EA-FINSERV 618 0016\n",
      "EA-GLTRADE 618 0016\n",
      "EA-HR 608 0094\n",
      "EA-IPPE 618 0006\n",
      "EA-PS 618 0016\n",
      "EA-RETAIL 618 0016\n",
      "ECC-DIMP 618 0011\n",
      "ECC-SE 605 0020\n",
      "ERECRUIT 617 0020\n",
      "FI-CA 618 0011\n",
      "FI-CAX 618 0011\n",
      "FINBASIS 748 0016\n",
      "FSCM_CCD 618 0016\n",
      "INSURANCE 618 0011\n",
      "IS-CWM 618 0011\n",
      "IS-H 618 0015\n",
      "IS-M 618 0011\n",
      "IS-OIL 618 0011\n",
      "IS-PRA 618 0016\n",
      "IS-PS-CA 618 0011\n",
      "IS-UT 618 0011\n",
      "IW_PGW 100 0009\n",
      "LSOFE 617 0019\n",
      "MDG_APPL 619 0017\n",
      "MDG_FND 749 0017\n",
      "MDG_MDC 100 0017\n",
      "MDG_UX 619 0017\n",
      "PERSONAS 300 0013\n",
      "PLMWUI 748 0016\n",
      "SAP_ABA 750 0020\n",
      "SAP_AP 750 0014\n",
      "SAP_APPL 618 0016\n",
      "SAP_BASIS 750 0020\n",
      "SAP_BS_FND 748 0016\n",
      "SAP_BW 750 0020\n",
      "SAP_FIN 618 0016\n",
      "SAP_GWFND 750 0021\n",
      "SAP_HR 608 0094\n",
      "SAP_UI 754 0006\n",
      "SEM-BW 748 0016\n",
      "ST-A/PI 01U_731 0002\n",
      "ST-PI 740 0015\n",
      "WEBCUIF 748 0016\n",
      "\n",
      "Sehr geehrter Herr Hintereder,\n",
      "\n",
      "haben ihre Studenten ihre IP-Adressen bereits freigeschaltet? Dieses\n",
      "Erklärvideo könnte Ihnen dabei helfen: https://www.youtube.com/\n",
      "= watch?v=Ez0JXpE4t5M .\n",
      "Falls Sie weiterhin Proleme bei der Anmeldung haben, können Sie uns\n",
      "gerne auf dieses Ticket antworten. Bei der Problembeschreibung würde es\n",
      "uns helfen, wenn Sie uns Screenshots vom Problem mitschicken könnten.\n",
      "\n",
      "Mit freundlichen Grüßen\n",
      "Ferdinand Xiong\n",
      "UCC Support München\n",
      "\n",
      "Sehr geehrte Damen und Herren,\n",
      "\n",
      "ich wünsche Ihnen einen sehr guten Start in das neue Jahr!\n",
      "\n",
      "Zwei meiner Schülerinnen hatten Probleme bei der Anmeldung über die\n",
      "angegebene Internetadresse von zu Hause aus. Nach ihrer Schilderung\n",
      "wurde stets gemeldet, dass das Kennwort bzw. die Anmeldedaten nicht\n",
      "korrekt seien. Die Schülerinnen versicherten mir jedoch glaubhaft, dass\n",
      "sie sich mit der üblichen GBI-Nummer und ihrem Kennwort aus dem\n",
      "Unterricht anmelden wollten. Wie könnten wir das Problem in den Griff\n",
      "bekommen?\n",
      "\n",
      "Vielen Dank für Ihre Unterstützung!\n",
      "\n",
      "Herzliche Grüße\n",
      "\n",
      "\n",
      "\n",
      "Marion Hintereder, OStRin\n",
      "Innenkoordinatorin\n",
      "Teamleitung Industrie\n",
      "Werner-von-Siemens-Schule\n",
      "Staatliche Berufsschule Cham\n",
      "Badstraße 23\n",
      "93413 Cham\n",
      "\n",
      "Telefon 09971 8521 0\n",
      "E-Mail: marion.hintereder@berufsschule-cham.de\n",
      "\n",
      "\n"
     ]
    }
   ],
   "source": [
    "for row in df_2022.head().iterrows():\n",
    "    print(row[1][\"Text\"])"
   ],
   "metadata": {
    "collapsed": false
   }
  },
  {
   "cell_type": "code",
   "execution_count": null,
   "outputs": [],
   "source": [],
   "metadata": {
    "collapsed": false,
    "pycharm": {
     "is_executing": true
    }
   }
  },
  {
   "cell_type": "code",
   "execution_count": 17,
   "outputs": [
    {
     "data": {
      "text/plain": "'de'"
     },
     "execution_count": 17,
     "metadata": {},
     "output_type": "execute_result"
    }
   ],
   "source": [
    "langdetect.detect(\"Hallo Welt\")"
   ],
   "metadata": {
    "collapsed": false
   }
  },
  {
   "cell_type": "code",
   "execution_count": null,
   "outputs": [],
   "source": [],
   "metadata": {
    "collapsed": false
   }
  }
 ],
 "metadata": {
  "kernelspec": {
   "display_name": "Python 3",
   "language": "python",
   "name": "python3"
  },
  "language_info": {
   "codemirror_mode": {
    "name": "ipython",
    "version": 2
   },
   "file_extension": ".py",
   "mimetype": "text/x-python",
   "name": "python",
   "nbconvert_exporter": "python",
   "pygments_lexer": "ipython2",
   "version": "2.7.6"
  }
 },
 "nbformat": 4,
 "nbformat_minor": 0
}
